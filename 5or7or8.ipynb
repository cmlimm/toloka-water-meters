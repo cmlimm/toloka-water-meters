{
 "cells": [
  {
   "cell_type": "code",
   "execution_count": 1,
   "id": "8eb327c4",
   "metadata": {},
   "outputs": [
    {
     "name": "stderr",
     "output_type": "stream",
     "text": [
      "C:\\Users\\Anton\\AppData\\Local\\Programs\\Python\\Python310\\lib\\site-packages\\tqdm\\auto.py:22: TqdmWarning: IProgress not found. Please update jupyter and ipywidgets. See https://ipywidgets.readthedocs.io/en/stable/user_install.html\n",
      "  from .autonotebook import tqdm as notebook_tqdm\n"
     ]
    }
   ],
   "source": [
    "import numpy as np\n",
    "import pandas as pd\n",
    "import tensorflow as tf\n",
    "from sklearn.model_selection import train_test_split\n",
    "from skimage.io import imread, imshow\n",
    "import matplotlib.pyplot as plt\n",
    "\n",
    "import random\n",
    "import json\n",
    "import ast\n",
    "import os\n",
    "import cv2\n",
    "import PIL\n",
    "\n",
    "from skimage import io\n",
    "from skimage.transform import rotate\n",
    "from skimage.color import rgb2gray\n",
    "from deskew import determine_skew\n",
    "import math\n",
    "\n",
    "import torch\n",
    "import torchvision\n",
    "\n",
    "import torch.nn as nn\n",
    "from torch import optim\n",
    "from torchvision import transforms\n",
    "\n",
    "from PIL import Image\n",
    "from tqdm import tqdm"
   ]
  },
  {
   "cell_type": "code",
   "execution_count": 3,
   "id": "a976c5e1",
   "metadata": {},
   "outputs": [],
   "source": [
    "# 0 1 2 -> 5 7 8"
   ]
  },
  {
   "cell_type": "code",
   "execution_count": 2,
   "id": "ec921437",
   "metadata": {},
   "outputs": [],
   "source": [
    "with open(r\"C:\\Users\\Anton\\Downloads\\TlkWaterMeters\\5 digits\", \"r\") as file:\n",
    "    lines = file.readlines()\n",
    "    digits5 = [line.strip(\"\\n\") for line in lines]\n",
    "    \n",
    "with open(r\"C:\\Users\\Anton\\Downloads\\TlkWaterMeters\\7 digits\", \"r\") as file:\n",
    "    lines = file.readlines()\n",
    "    digits7 = [line.strip(\"\\n\") for line in lines]"
   ]
  },
  {
   "cell_type": "code",
   "execution_count": 3,
   "id": "a68c0fae",
   "metadata": {},
   "outputs": [],
   "source": [
    "deskewed_path = r\"C:\\Users\\Anton\\Downloads\\TlkWaterMeters\\deskewed\"\n",
    "train_578_path = r\"C:\\Users\\Anton\\Downloads\\TlkWaterMeters\\train_578\"\n",
    "\n",
    "for n, image in zip(range(1244), os.listdir(deskewed_path)):\n",
    "    dir_img = os.path.join(deskewed_path, image)\n",
    "    photo = cv2.imread(os.path.join(dir_img))\n",
    "    \n",
    "    num = 8\n",
    "    if image in digits5:\n",
    "        cv2.imwrite(os.path.join(train_578_path, image[:-4]+\"_5.jpg\"), photo)\n",
    "        continue\n",
    "        \n",
    "    if image in digits7:\n",
    "        cv2.imwrite(os.path.join(train_578_path, image[:-4]+\"_7.jpg\"), photo)\n",
    "        continue\n",
    "        \n",
    "    if n <= 400:\n",
    "        parts = 5\n",
    "    elif n <= 800:\n",
    "        parts = 7\n",
    "    else:\n",
    "        cv2.imwrite(os.path.join(train_578_path, image[:-4]+\"_8.jpg\"), photo)\n",
    "        continue\n",
    "    \n",
    "    chars = np.array_split(photo, num, axis=1)\n",
    "    chars = chars[-parts:]\n",
    "    chars = np.hstack(tuple(chars))\n",
    "    \n",
    "    cv2.imwrite(os.path.join(train_578_path, image[:-4]+\"_\"+str(parts)+\".jpg\"), chars)"
   ]
  },
  {
   "cell_type": "code",
   "execution_count": 4,
   "id": "8dd982dc",
   "metadata": {},
   "outputs": [],
   "source": [
    "images_data = []\n",
    "labels_data = []\n",
    "dirname = r\"C:\\Users\\Anton\\Downloads\\TlkWaterMeters\\train_578\"\n",
    "labels = {5: 0, 7: 1, 8: 2}\n",
    "\n",
    "for image in os.listdir(dirname):\n",
    "    dir_img = os.path.join(dirname, image)\n",
    "    \n",
    "    img = cv2.imread(os.path.join(dir_img))\n",
    "    img = cv2.resize(img, (28, 28))\n",
    "    images_data.append(img)\n",
    "    \n",
    "    label = int(dir_img[-5])\n",
    "    labels_data.append(labels[label])\n",
    "\n",
    "images_data = np.array(images_data, dtype=np.uint8)\n",
    "labels_data = np.array(labels_data, dtype=np.uint8)"
   ]
  },
  {
   "cell_type": "code",
   "execution_count": 5,
   "id": "53a84e3b",
   "metadata": {},
   "outputs": [],
   "source": [
    "class Dataset(torch.utils.data.Dataset):   \n",
    "    def __init__(self, images_data, labels_data):\n",
    "        \n",
    "        self.transform = transforms.Compose(\n",
    "            [\n",
    "                transforms.ToPILImage(),\n",
    "                transforms.Grayscale(),\n",
    "                transforms.RandomVerticalFlip(0.5), \n",
    "                transforms.ToTensor()\n",
    "            ]\n",
    "        )\n",
    "        \n",
    "        self.images_data = images_data\n",
    "        self.y = torch.tensor(labels_data)\n",
    "\n",
    "    def __len__(self):\n",
    "        return len(self.y)\n",
    "\n",
    "    def __getitem__(self, index):\n",
    "        img = self.transform(self.images_data[index])\n",
    "        target = self.y[index]\n",
    "        \n",
    "        return img, target"
   ]
  },
  {
   "cell_type": "code",
   "execution_count": 6,
   "id": "32b10c8f",
   "metadata": {},
   "outputs": [],
   "source": [
    "img_train, img_test, target_train, target_test = train_test_split(images_data, labels_data, test_size=0.2, \n",
    "                                                                  random_state=42, shuffle=True)"
   ]
  },
  {
   "cell_type": "code",
   "execution_count": 7,
   "id": "c5d109a3",
   "metadata": {},
   "outputs": [],
   "source": [
    "img_train, img_val, target_train, target_val = train_test_split(img_train, target_train, test_size=0.1, \n",
    "                                                                random_state=42, shuffle=True)"
   ]
  },
  {
   "cell_type": "code",
   "execution_count": 8,
   "id": "d149eda6",
   "metadata": {},
   "outputs": [],
   "source": [
    "train_dataset = Dataset(img_train, target_train)\n",
    "train_loader = torch.utils.data.DataLoader(train_dataset, batch_size=32, shuffle=True)\n",
    "\n",
    "val_dataset = Dataset(img_val, target_val)\n",
    "val_loader = torch.utils.data.DataLoader(val_dataset, batch_size=16, shuffle=True)\n",
    "\n",
    "test_dataset = Dataset(img_test, target_test)\n",
    "test_len = test_dataset.__len__()\n",
    "test_loader = torch.utils.data.DataLoader(test_dataset, batch_size=test_len, shuffle=False)"
   ]
  },
  {
   "cell_type": "code",
   "execution_count": 9,
   "id": "360bc442",
   "metadata": {},
   "outputs": [
    {
     "data": {
      "text/plain": [
       "<torch._C.Generator at 0x224940da670>"
      ]
     },
     "execution_count": 9,
     "metadata": {},
     "output_type": "execute_result"
    }
   ],
   "source": [
    "np.random.seed(42)\n",
    "torch.manual_seed(42)"
   ]
  },
  {
   "cell_type": "code",
   "execution_count": 10,
   "id": "30b389b5",
   "metadata": {},
   "outputs": [],
   "source": [
    "class CNN(nn.Module):\n",
    "    def __init__(self, output_size=100, dropout=0.5):\n",
    "        super(CNN, self).__init__()\n",
    "        self.conv = nn.Sequential(nn.Conv2d(1, 32, kernel_size=5, stride=2, padding=1),\n",
    "                                  nn.ReLU(inplace=True),\n",
    "                                  nn.MaxPool2d(kernel_size=2, stride=2),\n",
    "                                  nn.Conv2d(32, 96, kernel_size=4, stride=1, padding=1),\n",
    "                                  nn.ReLU(inplace=True),\n",
    "                                  nn.MaxPool2d(kernel_size=2, stride=2),\n",
    "                                  nn.Conv2d(96, 192, kernel_size=3, stride=1, padding=1),\n",
    "                                  nn.ReLU(inplace=True),\n",
    "                                  nn.Conv2d(192, 128, kernel_size=3, stride=1, padding=1),\n",
    "                                  nn.ReLU(inplace=True),\n",
    "                                  nn.Conv2d(128, 128, kernel_size=3, stride=1, padding=1),\n",
    "                                  nn.ReLU(inplace=True),\n",
    "                                  nn.MaxPool2d(kernel_size=2, stride=2),\n",
    "                                 )\n",
    "        self.avg_pool = nn.AdaptiveAvgPool2d(output_size=(6, 6))\n",
    "        self.fc = nn.Sequential(nn.Linear(128*6*6, 2048),\n",
    "                                nn.ReLU(inplace=True),\n",
    "                                nn.Dropout(p=dropout),\n",
    "                                nn.Linear(2048, 1024),\n",
    "                                nn.ReLU(inplace=True),\n",
    "                                nn.Dropout(p=dropout),\n",
    "                                nn.Linear(1024, output_size),\n",
    "                                nn.LogSoftmax(dim=1)\n",
    "                               )\n",
    "        return\n",
    "    \n",
    "    def forward(self, x):\n",
    "        x = self.conv(x)\n",
    "        x = self.avg_pool(x)\n",
    "        x = torch.flatten(x, 1)\n",
    "        x = self.fc(x)\n",
    "        return x"
   ]
  },
  {
   "cell_type": "code",
   "execution_count": 11,
   "id": "459ad298",
   "metadata": {},
   "outputs": [],
   "source": [
    "def validation(model, loader, criterion, device=\"cpu\"):\n",
    "    model.eval()\n",
    "    loss = 0\n",
    "    acc = 0\n",
    "    \n",
    "    with torch.no_grad():\n",
    "        for images, labels in loader:\n",
    "            images, labels = images.to(device), labels.to(device)\n",
    "            \n",
    "            output = model.forward(images)\n",
    "#             print(output)\n",
    "            loss += criterion(output,labels).item()\n",
    "            \n",
    "            probs = torch.exp(output)\n",
    "            equality = (labels.data == probs.max(dim=1)[1])\n",
    "            acc += equality.type(torch.FloatTensor).mean()\n",
    "    res_loss = loss/len(loader)\n",
    "    res_acc = (acc.item())/len(loader)\n",
    "    return res_loss, res_acc"
   ]
  },
  {
   "cell_type": "code",
   "execution_count": 12,
   "id": "df085b58",
   "metadata": {},
   "outputs": [],
   "source": [
    "def train_model(model, trainloader, validloader, criterion, optimizer,\n",
    "                scheduler, epochs=10, print_every=1, device=\"cpu\"):\n",
    "    model.to(device)\n",
    "    best_acc = 0\n",
    "    best_epoch = 0\n",
    "    \n",
    "    for e in range(epochs):\n",
    "        model.train()        \n",
    "        for images, labels in trainloader:\n",
    "            images, labels = images.to(device), labels.to(device)\n",
    "            \n",
    "            optimizer.zero_grad()\n",
    "            output = model.forward(images)\n",
    "            loss = criterion(output, labels)\n",
    "            loss.backward()\n",
    "            optimizer.step()\n",
    "            scheduler.step()\n",
    "        \n",
    "        model.eval()\n",
    "        train_loss, train_accuracy = validation(model, trainloader, criterion, device)\n",
    "        valid_loss, valid_accuracy = validation(model, validloader, criterion, device)\n",
    "        \n",
    "        if valid_accuracy > best_acc:\n",
    "            best_acc = valid_accuracy\n",
    "            best_epoch = e\n",
    "            torch.save(model.state_dict(), \"best-state-578.pt\")\n",
    "            \n",
    "        if e % print_every == 0:\n",
    "            to_print = \"Epoch: \"+str(e+1)+\" of \"+str(epochs)\n",
    "            to_print += \".. Train Loss: {:.4f}\".format(train_loss)\n",
    "            to_print += \".. Valid Loss: {:.4f}\".format(valid_loss)\n",
    "            to_print += \".. Valid Accuracy: {:.3f}\".format(valid_accuracy)\n",
    "            print(to_print)\n",
    "    \n",
    "    model.load_state_dict(torch.load(\"best-state-578.pt\"))\n",
    "    to_print = \"\\nTraining completed. Best state dict is loaded.\\n\"\n",
    "    to_print += \"Best Valid Acc is: {:.4f} after {} epochs\".format(best_acc,best_epoch+1)\n",
    "    print(to_print)\n",
    "    return"
   ]
  },
  {
   "cell_type": "code",
   "execution_count": 13,
   "id": "f6f0fc08",
   "metadata": {},
   "outputs": [],
   "source": [
    "def prediction(model, loader, device=\"cpu\"):\n",
    "    model.to(device)\n",
    "    model.eval()\n",
    "    preds_all = torch.LongTensor()\n",
    "    \n",
    "    with torch.no_grad():\n",
    "        for images, label in loader:\n",
    "            images = images.to(device)\n",
    "            \n",
    "            output = model.forward(images)            \n",
    "            probs = torch.exp(output)\n",
    "            pred = probs.to('cpu').max(dim=1)[1]\n",
    "            preds_all = torch.cat((preds_all, pred), dim=0)\n",
    "    return preds_all"
   ]
  },
  {
   "cell_type": "code",
   "execution_count": 14,
   "id": "dffc6d26",
   "metadata": {},
   "outputs": [],
   "source": [
    "from torchsummary import summary"
   ]
  },
  {
   "cell_type": "code",
   "execution_count": 17,
   "id": "0b3a2920",
   "metadata": {},
   "outputs": [
    {
     "name": "stdout",
     "output_type": "stream",
     "text": [
      "CNN(\n",
      "  (conv): Sequential(\n",
      "    (0): Conv2d(1, 32, kernel_size=(5, 5), stride=(2, 2), padding=(1, 1))\n",
      "    (1): ReLU(inplace=True)\n",
      "    (2): MaxPool2d(kernel_size=2, stride=2, padding=0, dilation=1, ceil_mode=False)\n",
      "    (3): Conv2d(32, 96, kernel_size=(4, 4), stride=(1, 1), padding=(1, 1))\n",
      "    (4): ReLU(inplace=True)\n",
      "    (5): MaxPool2d(kernel_size=2, stride=2, padding=0, dilation=1, ceil_mode=False)\n",
      "    (6): Conv2d(96, 192, kernel_size=(3, 3), stride=(1, 1), padding=(1, 1))\n",
      "    (7): ReLU(inplace=True)\n",
      "    (8): Conv2d(192, 128, kernel_size=(3, 3), stride=(1, 1), padding=(1, 1))\n",
      "    (9): ReLU(inplace=True)\n",
      "    (10): Conv2d(128, 128, kernel_size=(3, 3), stride=(1, 1), padding=(1, 1))\n",
      "    (11): ReLU(inplace=True)\n",
      "    (12): MaxPool2d(kernel_size=2, stride=2, padding=0, dilation=1, ceil_mode=False)\n",
      "  )\n",
      "  (avg_pool): AdaptiveAvgPool2d(output_size=(6, 6))\n",
      "  (fc): Sequential(\n",
      "    (0): Linear(in_features=4608, out_features=2048, bias=True)\n",
      "    (1): ReLU(inplace=True)\n",
      "    (2): Dropout(p=0.5, inplace=False)\n",
      "    (3): Linear(in_features=2048, out_features=1024, bias=True)\n",
      "    (4): ReLU(inplace=True)\n",
      "    (5): Dropout(p=0.5, inplace=False)\n",
      "    (6): Linear(in_features=1024, out_features=3, bias=True)\n",
      "    (7): LogSoftmax(dim=1)\n",
      "  )\n",
      ")\n"
     ]
    }
   ],
   "source": [
    "model_recognizer = CNN(output_size=3, dropout=0.5)\n",
    "print(model_recognizer)"
   ]
  },
  {
   "cell_type": "code",
   "execution_count": 53,
   "id": "9798275b",
   "metadata": {},
   "outputs": [],
   "source": [
    "max_learning_rate = 0.001\n",
    "n_epochs = 30\n",
    "train_batch_size = 32\n",
    "valid_batch_size = 16\n",
    "steps_per_epoch = math.ceil(len(train_dataset)/32)\n",
    "\n",
    "criterion = nn.CrossEntropyLoss()\n",
    "optimizer = optim.Adam(model_recognizer.parameters(), lr=max_learning_rate)\n",
    "scheduler = optim.lr_scheduler.OneCycleLR(optimizer,\n",
    "                                          max_lr = max_learning_rate,\n",
    "                                          epochs = n_epochs,\n",
    "                                          steps_per_epoch = steps_per_epoch,\n",
    "                                          pct_start = 0.2,\n",
    "                                          anneal_strategy = \"cos\")"
   ]
  },
  {
   "cell_type": "code",
   "execution_count": 54,
   "id": "9c1da480",
   "metadata": {},
   "outputs": [
    {
     "name": "stdout",
     "output_type": "stream",
     "text": [
      "Epoch: 1 of 30.. Train Loss: 1.0980.. Valid Loss: 1.0980.. Valid Accuracy: 0.375\n",
      "Epoch: 2 of 30.. Train Loss: 1.0972.. Valid Loss: 1.1015.. Valid Accuracy: 0.295\n",
      "Epoch: 3 of 30.. Train Loss: 1.0990.. Valid Loss: 1.0975.. Valid Accuracy: 0.304\n",
      "Epoch: 4 of 30.. Train Loss: 1.0987.. Valid Loss: 1.0980.. Valid Accuracy: 0.321\n",
      "Epoch: 5 of 30.. Train Loss: 1.0981.. Valid Loss: 1.1004.. Valid Accuracy: 0.268\n",
      "Epoch: 6 of 30.. Train Loss: 1.1147.. Valid Loss: 1.1080.. Valid Accuracy: 0.375\n",
      "Epoch: 7 of 30.. Train Loss: 0.9101.. Valid Loss: 1.0175.. Valid Accuracy: 0.420\n",
      "Epoch: 8 of 30.. Train Loss: 0.8760.. Valid Loss: 0.9234.. Valid Accuracy: 0.518\n",
      "Epoch: 9 of 30.. Train Loss: 0.7768.. Valid Loss: 0.8447.. Valid Accuracy: 0.509\n",
      "Epoch: 10 of 30.. Train Loss: 0.7126.. Valid Loss: 0.7701.. Valid Accuracy: 0.580\n",
      "Epoch: 11 of 30.. Train Loss: 0.6284.. Valid Loss: 0.8821.. Valid Accuracy: 0.571\n",
      "Epoch: 12 of 30.. Train Loss: 0.5143.. Valid Loss: 0.8005.. Valid Accuracy: 0.679\n",
      "Epoch: 13 of 30.. Train Loss: 0.6509.. Valid Loss: 0.7982.. Valid Accuracy: 0.580\n",
      "Epoch: 14 of 30.. Train Loss: 0.4480.. Valid Loss: 0.7713.. Valid Accuracy: 0.679\n",
      "Epoch: 15 of 30.. Train Loss: 0.2801.. Valid Loss: 0.8094.. Valid Accuracy: 0.714\n",
      "Epoch: 16 of 30.. Train Loss: 0.2820.. Valid Loss: 0.7162.. Valid Accuracy: 0.705\n",
      "Epoch: 17 of 30.. Train Loss: 0.2645.. Valid Loss: 0.6679.. Valid Accuracy: 0.759\n",
      "Epoch: 18 of 30.. Train Loss: 0.3155.. Valid Loss: 0.7243.. Valid Accuracy: 0.759\n",
      "Epoch: 19 of 30.. Train Loss: 0.1480.. Valid Loss: 0.8175.. Valid Accuracy: 0.750\n",
      "Epoch: 20 of 30.. Train Loss: 0.2763.. Valid Loss: 0.8361.. Valid Accuracy: 0.812\n",
      "Epoch: 21 of 30.. Train Loss: 0.1238.. Valid Loss: 0.8305.. Valid Accuracy: 0.804\n",
      "Epoch: 22 of 30.. Train Loss: 0.0875.. Valid Loss: 0.7797.. Valid Accuracy: 0.804\n",
      "Epoch: 23 of 30.. Train Loss: 0.0847.. Valid Loss: 0.8406.. Valid Accuracy: 0.795\n",
      "Epoch: 24 of 30.. Train Loss: 0.0641.. Valid Loss: 0.7530.. Valid Accuracy: 0.857\n",
      "Epoch: 25 of 30.. Train Loss: 0.0598.. Valid Loss: 0.7505.. Valid Accuracy: 0.839\n",
      "Epoch: 26 of 30.. Train Loss: 0.0700.. Valid Loss: 0.9863.. Valid Accuracy: 0.795\n",
      "Epoch: 27 of 30.. Train Loss: 0.0394.. Valid Loss: 0.9366.. Valid Accuracy: 0.812\n",
      "Epoch: 28 of 30.. Train Loss: 0.0537.. Valid Loss: 0.8038.. Valid Accuracy: 0.830\n",
      "Epoch: 29 of 30.. Train Loss: 0.0378.. Valid Loss: 0.7284.. Valid Accuracy: 0.875\n",
      "Epoch: 30 of 30.. Train Loss: 0.0394.. Valid Loss: 0.7862.. Valid Accuracy: 0.848\n",
      "\n",
      "Training completed. Best state dict is loaded.\n",
      "Best Valid Acc is: 0.8750 after 29 epochs\n"
     ]
    }
   ],
   "source": [
    "train_model(model = model_recognizer, trainloader = train_loader,\n",
    "            validloader = val_loader, criterion = criterion,\n",
    "            optimizer = optimizer, scheduler = scheduler,\n",
    "            epochs = n_epochs, print_every=1, device = \"cpu\")"
   ]
  },
  {
   "cell_type": "code",
   "execution_count": 23,
   "id": "5e4be514",
   "metadata": {},
   "outputs": [],
   "source": [
    "from sklearn.metrics import confusion_matrix, ConfusionMatrixDisplay"
   ]
  },
  {
   "cell_type": "code",
   "execution_count": 20,
   "id": "86ab6584",
   "metadata": {},
   "outputs": [
    {
     "data": {
      "text/plain": [
       "CNN(\n",
       "  (conv): Sequential(\n",
       "    (0): Conv2d(1, 32, kernel_size=(5, 5), stride=(2, 2), padding=(1, 1))\n",
       "    (1): ReLU(inplace=True)\n",
       "    (2): MaxPool2d(kernel_size=2, stride=2, padding=0, dilation=1, ceil_mode=False)\n",
       "    (3): Conv2d(32, 96, kernel_size=(4, 4), stride=(1, 1), padding=(1, 1))\n",
       "    (4): ReLU(inplace=True)\n",
       "    (5): MaxPool2d(kernel_size=2, stride=2, padding=0, dilation=1, ceil_mode=False)\n",
       "    (6): Conv2d(96, 192, kernel_size=(3, 3), stride=(1, 1), padding=(1, 1))\n",
       "    (7): ReLU(inplace=True)\n",
       "    (8): Conv2d(192, 128, kernel_size=(3, 3), stride=(1, 1), padding=(1, 1))\n",
       "    (9): ReLU(inplace=True)\n",
       "    (10): Conv2d(128, 128, kernel_size=(3, 3), stride=(1, 1), padding=(1, 1))\n",
       "    (11): ReLU(inplace=True)\n",
       "    (12): MaxPool2d(kernel_size=2, stride=2, padding=0, dilation=1, ceil_mode=False)\n",
       "  )\n",
       "  (avg_pool): AdaptiveAvgPool2d(output_size=(6, 6))\n",
       "  (fc): Sequential(\n",
       "    (0): Linear(in_features=4608, out_features=2048, bias=True)\n",
       "    (1): ReLU(inplace=True)\n",
       "    (2): Dropout(p=0.5, inplace=False)\n",
       "    (3): Linear(in_features=2048, out_features=1024, bias=True)\n",
       "    (4): ReLU(inplace=True)\n",
       "    (5): Dropout(p=0.5, inplace=False)\n",
       "    (6): Linear(in_features=1024, out_features=3, bias=True)\n",
       "    (7): LogSoftmax(dim=1)\n",
       "  )\n",
       ")"
      ]
     },
     "execution_count": 20,
     "metadata": {},
     "output_type": "execute_result"
    }
   ],
   "source": [
    "model_recognizer.load_state_dict(torch.load('best-state-578.pt'))\n",
    "model_recognizer.eval()"
   ]
  },
  {
   "cell_type": "code",
   "execution_count": 21,
   "id": "68e9f687",
   "metadata": {},
   "outputs": [],
   "source": [
    "y_pred = prediction(model_recognizer, test_loader)\n",
    "y_true = target_test"
   ]
  },
  {
   "cell_type": "code",
   "execution_count": 24,
   "id": "08f4197c",
   "metadata": {},
   "outputs": [],
   "source": [
    "cm = confusion_matrix(y_true, y_pred, labels=list(range(3)))\n",
    "disp = ConfusionMatrixDisplay(confusion_matrix=cm, display_labels=[5, 7, 8])"
   ]
  },
  {
   "cell_type": "code",
   "execution_count": 35,
   "id": "e462fda9",
   "metadata": {},
   "outputs": [],
   "source": [
    "import matplotlib.pyplot as plt"
   ]
  },
  {
   "cell_type": "code",
   "execution_count": 38,
   "id": "2ed408db",
   "metadata": {},
   "outputs": [],
   "source": [
    "font = {\n",
    "    'weight': 'normal',\n",
    "    'size'   : 22}\n",
    "plt.rc('font', **font)"
   ]
  },
  {
   "cell_type": "code",
   "execution_count": 40,
   "id": "3a80a9ad",
   "metadata": {},
   "outputs": [
    {
     "data": {
      "text/plain": [
       "<sklearn.metrics._plot.confusion_matrix.ConfusionMatrixDisplay at 0x2249a2ad420>"
      ]
     },
     "execution_count": 40,
     "metadata": {},
     "output_type": "execute_result"
    },
    {
     "data": {
      "image/png": "[encoded data removed]",
      "text/plain": [
       "<Figure size 720x720 with 2 Axes>"
      ]
     },
     "metadata": {
      "needs_background": "light"
     },
     "output_type": "display_data"
    }
   ],
   "source": [
    "fig, ax = plt.subplots(figsize=(10,10))\n",
    "disp.plot(ax=ax)"
   ]
  },
  {
   "cell_type": "code",
   "execution_count": 26,
   "id": "173db053",
   "metadata": {},
   "outputs": [],
   "source": [
    "from sklearn.metrics import accuracy_score"
   ]
  },
  {
   "cell_type": "code",
   "execution_count": 27,
   "id": "39e04cb8",
   "metadata": {},
   "outputs": [
    {
     "data": {
      "text/plain": [
       "0.8433734939759037"
      ]
     },
     "execution_count": 27,
     "metadata": {},
     "output_type": "execute_result"
    }
   ],
   "source": [
    "accuracy_score(y_true, y_pred)"
   ]
  },
  {
   "cell_type": "code",
   "execution_count": null,
   "id": "ec8b8a56",
   "metadata": {},
   "outputs": [],
   "source": []
  }
 ],
 "metadata": {
  "kernelspec": {
   "display_name": "Python 3 (ipykernel)",
   "language": "python",
   "name": "python3"
  },
  "language_info": {
   "codemirror_mode": {
    "name": "ipython",
    "version": 3
   },
   "file_extension": ".py",
   "mimetype": "text/x-python",
   "name": "python",
   "nbconvert_exporter": "python",
   "pygments_lexer": "ipython3",
   "version": "3.10.7"
  }
 },
 "nbformat": 4,
 "nbformat_minor": 5
}
