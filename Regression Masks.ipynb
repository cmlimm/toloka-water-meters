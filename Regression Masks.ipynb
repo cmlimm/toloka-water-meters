{
 "cells": [
  {
   "cell_type": "code",
   "execution_count": 1,
   "id": "6cf184ca",
   "metadata": {},
   "outputs": [],
   "source": [
    "import numpy as np\n",
    "import pandas as pd\n",
    "import json\n",
    "import ast\n",
    "import os\n",
    "import cv2"
   ]
  },
  {
   "cell_type": "markdown",
   "id": "5b87c787",
   "metadata": {},
   "source": [
    "# Загрузка координат масок"
   ]
  },
  {
   "cell_type": "code",
   "execution_count": 2,
   "id": "b2b729e7",
   "metadata": {},
   "outputs": [],
   "source": [
    "data = pd.read_csv(r\"C:\\Users\\Anton\\Downloads\\TlkWaterMeters\\data.tsv\", sep='\\t', header=0)"
   ]
  },
  {
   "cell_type": "code",
   "execution_count": 3,
   "id": "dcb0117c",
   "metadata": {},
   "outputs": [],
   "source": [
    "data['location'] = data['location'].apply(lambda x: ast.literal_eval(x)['data'])"
   ]
  },
  {
   "cell_type": "code",
   "execution_count": 4,
   "id": "7e80851d",
   "metadata": {},
   "outputs": [],
   "source": [
    "# берём картинки у которых маска -- чытерёхугольник\n",
    "data = data[data['location'].map(len) == 4].reset_index(drop=True)"
   ]
  },
  {
   "cell_type": "code",
   "execution_count": 6,
   "id": "ff15a05c",
   "metadata": {},
   "outputs": [
    {
     "data": {
      "text/html": [
       "<div>\n",
       "<style scoped>\n",
       "    .dataframe tbody tr th:only-of-type {\n",
       "        vertical-align: middle;\n",
       "    }\n",
       "\n",
       "    .dataframe tbody tr th {\n",
       "        vertical-align: top;\n",
       "    }\n",
       "\n",
       "    .dataframe thead th {\n",
       "        text-align: right;\n",
       "    }\n",
       "</style>\n",
       "<table border=\"1\" class=\"dataframe\">\n",
       "  <thead>\n",
       "    <tr style=\"text-align: right;\">\n",
       "      <th></th>\n",
       "      <th>photo_name</th>\n",
       "      <th>value</th>\n",
       "      <th>location</th>\n",
       "    </tr>\n",
       "  </thead>\n",
       "  <tbody>\n",
       "    <tr>\n",
       "      <th>0</th>\n",
       "      <td>id_407_value_21_86.jpg</td>\n",
       "      <td>21.860</td>\n",
       "      <td>[{'x': 0.27545, 'y': 0.19134}, {'x': 0.37483, 'y': 0.18282}, {'x': 0.38935, 'y': 0.76071}, {'x': 0.28185, 'y': 0.76613}]</td>\n",
       "    </tr>\n",
       "    <tr>\n",
       "      <th>1</th>\n",
       "      <td>id_252_value_313_322.jpg</td>\n",
       "      <td>313.322</td>\n",
       "      <td>[{'x': 0.21967, 'y': 0.50845}, {'x': 0.70811, 'y': 0.53256}, {'x': 0.70008, 'y': 0.61295}, {'x': 0.21699, 'y': 0.58883}]</td>\n",
       "    </tr>\n",
       "    <tr>\n",
       "      <th>2</th>\n",
       "      <td>id_1204_value_78_677.jpg</td>\n",
       "      <td>78.677</td>\n",
       "      <td>[{'x': 0.26854, 'y': 0.38812}, {'x': 0.56977, 'y': 0.33109}, {'x': 0.57225, 'y': 0.41451}, {'x': 0.27392, 'y': 0.47409}]</td>\n",
       "    </tr>\n",
       "    <tr>\n",
       "      <th>3</th>\n",
       "      <td>id_672_value_350_806.jpg</td>\n",
       "      <td>350.806</td>\n",
       "      <td>[{'x': 0.36175, 'y': 0.59318}, {'x': 0.35917, 'y': 0.6288}, {'x': 0.59294, 'y': 0.63693}, {'x': 0.59448, 'y': 0.60093}]</td>\n",
       "    </tr>\n",
       "    <tr>\n",
       "      <th>4</th>\n",
       "      <td>id_2_value_495_341.jpg</td>\n",
       "      <td>495.341</td>\n",
       "      <td>[{'x': 0.26521, 'y': 0.5183}, {'x': 0.81616, 'y': 0.51579}, {'x': 0.81973, 'y': 0.57957}, {'x': 0.27057, 'y': 0.58409}]</td>\n",
       "    </tr>\n",
       "    <tr>\n",
       "      <th>...</th>\n",
       "      <td>...</td>\n",
       "      <td>...</td>\n",
       "      <td>...</td>\n",
       "    </tr>\n",
       "    <tr>\n",
       "      <th>500</th>\n",
       "      <td>id_1146_value_90_393.jpg</td>\n",
       "      <td>90.393</td>\n",
       "      <td>[{'x': 0.24256, 'y': 0.38728}, {'x': 0.74151, 'y': 0.41624}, {'x': 0.72884, 'y': 0.50441}, {'x': 0.23795, 'y': 0.47934}]</td>\n",
       "    </tr>\n",
       "    <tr>\n",
       "      <th>501</th>\n",
       "      <td>id_700_value_77_542.jpg</td>\n",
       "      <td>77.542</td>\n",
       "      <td>[{'x': 0.2531, 'y': 0.49937}, {'x': 0.25536, 'y': 0.46072}, {'x': 0.63144, 'y': 0.48273}, {'x': 0.62655, 'y': 0.52166}]</td>\n",
       "    </tr>\n",
       "    <tr>\n",
       "      <th>502</th>\n",
       "      <td>id_255_value_172_542.jpg</td>\n",
       "      <td>172.542</td>\n",
       "      <td>[{'x': 0.2368, 'y': 0.48755}, {'x': 0.74324, 'y': 0.47545}, {'x': 0.74439, 'y': 0.56103}, {'x': 0.23968, 'y': 0.57357}]</td>\n",
       "    </tr>\n",
       "    <tr>\n",
       "      <th>503</th>\n",
       "      <td>id_878_value_97_299.jpg</td>\n",
       "      <td>97.299</td>\n",
       "      <td>[{'x': 0.30909, 'y': 0.55625}, {'x': 0.66163, 'y': 0.54632}, {'x': 0.6637, 'y': 0.60188}, {'x': 0.31447, 'y': 0.61027}]</td>\n",
       "    </tr>\n",
       "    <tr>\n",
       "      <th>504</th>\n",
       "      <td>id_396_value_228_944.jpg</td>\n",
       "      <td>228.944</td>\n",
       "      <td>[{'x': 0.35106, 'y': 0.59879}, {'x': 0.35162, 'y': 0.6743}, {'x': 0.59838, 'y': 0.66981}, {'x': 0.59838, 'y': 0.59356}]</td>\n",
       "    </tr>\n",
       "  </tbody>\n",
       "</table>\n",
       "<p>505 rows × 3 columns</p>\n",
       "</div>"
      ],
      "text/plain": [
       "                   photo_name    value  \\\n",
       "0      id_407_value_21_86.jpg   21.860   \n",
       "1    id_252_value_313_322.jpg  313.322   \n",
       "2    id_1204_value_78_677.jpg   78.677   \n",
       "3    id_672_value_350_806.jpg  350.806   \n",
       "4      id_2_value_495_341.jpg  495.341   \n",
       "..                        ...      ...   \n",
       "500  id_1146_value_90_393.jpg   90.393   \n",
       "501   id_700_value_77_542.jpg   77.542   \n",
       "502  id_255_value_172_542.jpg  172.542   \n",
       "503   id_878_value_97_299.jpg   97.299   \n",
       "504  id_396_value_228_944.jpg  228.944   \n",
       "\n",
       "                                                                                                                     location  \n",
       "0    [{'x': 0.27545, 'y': 0.19134}, {'x': 0.37483, 'y': 0.18282}, {'x': 0.38935, 'y': 0.76071}, {'x': 0.28185, 'y': 0.76613}]  \n",
       "1    [{'x': 0.21967, 'y': 0.50845}, {'x': 0.70811, 'y': 0.53256}, {'x': 0.70008, 'y': 0.61295}, {'x': 0.21699, 'y': 0.58883}]  \n",
       "2    [{'x': 0.26854, 'y': 0.38812}, {'x': 0.56977, 'y': 0.33109}, {'x': 0.57225, 'y': 0.41451}, {'x': 0.27392, 'y': 0.47409}]  \n",
       "3     [{'x': 0.36175, 'y': 0.59318}, {'x': 0.35917, 'y': 0.6288}, {'x': 0.59294, 'y': 0.63693}, {'x': 0.59448, 'y': 0.60093}]  \n",
       "4     [{'x': 0.26521, 'y': 0.5183}, {'x': 0.81616, 'y': 0.51579}, {'x': 0.81973, 'y': 0.57957}, {'x': 0.27057, 'y': 0.58409}]  \n",
       "..                                                                                                                        ...  \n",
       "500  [{'x': 0.24256, 'y': 0.38728}, {'x': 0.74151, 'y': 0.41624}, {'x': 0.72884, 'y': 0.50441}, {'x': 0.23795, 'y': 0.47934}]  \n",
       "501   [{'x': 0.2531, 'y': 0.49937}, {'x': 0.25536, 'y': 0.46072}, {'x': 0.63144, 'y': 0.48273}, {'x': 0.62655, 'y': 0.52166}]  \n",
       "502   [{'x': 0.2368, 'y': 0.48755}, {'x': 0.74324, 'y': 0.47545}, {'x': 0.74439, 'y': 0.56103}, {'x': 0.23968, 'y': 0.57357}]  \n",
       "503   [{'x': 0.30909, 'y': 0.55625}, {'x': 0.66163, 'y': 0.54632}, {'x': 0.6637, 'y': 0.60188}, {'x': 0.31447, 'y': 0.61027}]  \n",
       "504   [{'x': 0.35106, 'y': 0.59879}, {'x': 0.35162, 'y': 0.6743}, {'x': 0.59838, 'y': 0.66981}, {'x': 0.59838, 'y': 0.59356}]  \n",
       "\n",
       "[505 rows x 3 columns]"
      ]
     },
     "execution_count": 6,
     "metadata": {},
     "output_type": "execute_result"
    }
   ],
   "source": [
    "pd.set_option('max_colwidth', 400)\n",
    "data"
   ]
  },
  {
   "cell_type": "code",
   "execution_count": 35,
   "id": "cc6fea89",
   "metadata": {},
   "outputs": [],
   "source": [
    "def sort_coords(coords):\n",
    "    by_x = sorted(coords, key=lambda coord: [coord['x'], coord['y']])\n",
    "    left = sorted(by_x[:2], key=lambda coord: [coord['y'], coord['x']])\n",
    "    right = sorted(by_x[2:], key=lambda coord: [coord['y'], coord['x']])\n",
    "    \n",
    "    return left + right"
   ]
  },
  {
   "cell_type": "code",
   "execution_count": 36,
   "id": "ae47717f",
   "metadata": {
    "scrolled": false
   },
   "outputs": [
    {
     "data": {
      "text/html": [
       "<div>\n",
       "<style scoped>\n",
       "    .dataframe tbody tr th:only-of-type {\n",
       "        vertical-align: middle;\n",
       "    }\n",
       "\n",
       "    .dataframe tbody tr th {\n",
       "        vertical-align: top;\n",
       "    }\n",
       "\n",
       "    .dataframe thead th {\n",
       "        text-align: right;\n",
       "    }\n",
       "</style>\n",
       "<table border=\"1\" class=\"dataframe\">\n",
       "  <thead>\n",
       "    <tr style=\"text-align: right;\">\n",
       "      <th></th>\n",
       "      <th>bottom_left</th>\n",
       "      <th>upper_left</th>\n",
       "      <th>bottom_right</th>\n",
       "      <th>upper_right</th>\n",
       "    </tr>\n",
       "  </thead>\n",
       "  <tbody>\n",
       "    <tr>\n",
       "      <th>0</th>\n",
       "      <td>{'x': 0.27545, 'y': 0.19134}</td>\n",
       "      <td>{'x': 0.28185, 'y': 0.76613}</td>\n",
       "      <td>{'x': 0.37483, 'y': 0.18282}</td>\n",
       "      <td>{'x': 0.38935, 'y': 0.76071}</td>\n",
       "    </tr>\n",
       "    <tr>\n",
       "      <th>1</th>\n",
       "      <td>{'x': 0.21967, 'y': 0.50845}</td>\n",
       "      <td>{'x': 0.21699, 'y': 0.58883}</td>\n",
       "      <td>{'x': 0.70811, 'y': 0.53256}</td>\n",
       "      <td>{'x': 0.70008, 'y': 0.61295}</td>\n",
       "    </tr>\n",
       "    <tr>\n",
       "      <th>2</th>\n",
       "      <td>{'x': 0.26854, 'y': 0.38812}</td>\n",
       "      <td>{'x': 0.27392, 'y': 0.47409}</td>\n",
       "      <td>{'x': 0.56977, 'y': 0.33109}</td>\n",
       "      <td>{'x': 0.57225, 'y': 0.41451}</td>\n",
       "    </tr>\n",
       "    <tr>\n",
       "      <th>3</th>\n",
       "      <td>{'x': 0.36175, 'y': 0.59318}</td>\n",
       "      <td>{'x': 0.35917, 'y': 0.6288}</td>\n",
       "      <td>{'x': 0.59448, 'y': 0.60093}</td>\n",
       "      <td>{'x': 0.59294, 'y': 0.63693}</td>\n",
       "    </tr>\n",
       "    <tr>\n",
       "      <th>4</th>\n",
       "      <td>{'x': 0.26521, 'y': 0.5183}</td>\n",
       "      <td>{'x': 0.27057, 'y': 0.58409}</td>\n",
       "      <td>{'x': 0.81616, 'y': 0.51579}</td>\n",
       "      <td>{'x': 0.81973, 'y': 0.57957}</td>\n",
       "    </tr>\n",
       "    <tr>\n",
       "      <th>...</th>\n",
       "      <td>...</td>\n",
       "      <td>...</td>\n",
       "      <td>...</td>\n",
       "      <td>...</td>\n",
       "    </tr>\n",
       "    <tr>\n",
       "      <th>500</th>\n",
       "      <td>{'x': 0.24256, 'y': 0.38728}</td>\n",
       "      <td>{'x': 0.23795, 'y': 0.47934}</td>\n",
       "      <td>{'x': 0.74151, 'y': 0.41624}</td>\n",
       "      <td>{'x': 0.72884, 'y': 0.50441}</td>\n",
       "    </tr>\n",
       "    <tr>\n",
       "      <th>501</th>\n",
       "      <td>{'x': 0.25536, 'y': 0.46072}</td>\n",
       "      <td>{'x': 0.2531, 'y': 0.49937}</td>\n",
       "      <td>{'x': 0.63144, 'y': 0.48273}</td>\n",
       "      <td>{'x': 0.62655, 'y': 0.52166}</td>\n",
       "    </tr>\n",
       "    <tr>\n",
       "      <th>502</th>\n",
       "      <td>{'x': 0.2368, 'y': 0.48755}</td>\n",
       "      <td>{'x': 0.23968, 'y': 0.57357}</td>\n",
       "      <td>{'x': 0.74324, 'y': 0.47545}</td>\n",
       "      <td>{'x': 0.74439, 'y': 0.56103}</td>\n",
       "    </tr>\n",
       "    <tr>\n",
       "      <th>503</th>\n",
       "      <td>{'x': 0.30909, 'y': 0.55625}</td>\n",
       "      <td>{'x': 0.31447, 'y': 0.61027}</td>\n",
       "      <td>{'x': 0.66163, 'y': 0.54632}</td>\n",
       "      <td>{'x': 0.6637, 'y': 0.60188}</td>\n",
       "    </tr>\n",
       "    <tr>\n",
       "      <th>504</th>\n",
       "      <td>{'x': 0.35106, 'y': 0.59879}</td>\n",
       "      <td>{'x': 0.35162, 'y': 0.6743}</td>\n",
       "      <td>{'x': 0.59838, 'y': 0.59356}</td>\n",
       "      <td>{'x': 0.59838, 'y': 0.66981}</td>\n",
       "    </tr>\n",
       "  </tbody>\n",
       "</table>\n",
       "<p>505 rows × 4 columns</p>\n",
       "</div>"
      ],
      "text/plain": [
       "                      bottom_left                    upper_left  \\\n",
       "0    {'x': 0.27545, 'y': 0.19134}  {'x': 0.28185, 'y': 0.76613}   \n",
       "1    {'x': 0.21967, 'y': 0.50845}  {'x': 0.21699, 'y': 0.58883}   \n",
       "2    {'x': 0.26854, 'y': 0.38812}  {'x': 0.27392, 'y': 0.47409}   \n",
       "3    {'x': 0.36175, 'y': 0.59318}   {'x': 0.35917, 'y': 0.6288}   \n",
       "4     {'x': 0.26521, 'y': 0.5183}  {'x': 0.27057, 'y': 0.58409}   \n",
       "..                            ...                           ...   \n",
       "500  {'x': 0.24256, 'y': 0.38728}  {'x': 0.23795, 'y': 0.47934}   \n",
       "501  {'x': 0.25536, 'y': 0.46072}   {'x': 0.2531, 'y': 0.49937}   \n",
       "502   {'x': 0.2368, 'y': 0.48755}  {'x': 0.23968, 'y': 0.57357}   \n",
       "503  {'x': 0.30909, 'y': 0.55625}  {'x': 0.31447, 'y': 0.61027}   \n",
       "504  {'x': 0.35106, 'y': 0.59879}   {'x': 0.35162, 'y': 0.6743}   \n",
       "\n",
       "                     bottom_right                   upper_right  \n",
       "0    {'x': 0.37483, 'y': 0.18282}  {'x': 0.38935, 'y': 0.76071}  \n",
       "1    {'x': 0.70811, 'y': 0.53256}  {'x': 0.70008, 'y': 0.61295}  \n",
       "2    {'x': 0.56977, 'y': 0.33109}  {'x': 0.57225, 'y': 0.41451}  \n",
       "3    {'x': 0.59448, 'y': 0.60093}  {'x': 0.59294, 'y': 0.63693}  \n",
       "4    {'x': 0.81616, 'y': 0.51579}  {'x': 0.81973, 'y': 0.57957}  \n",
       "..                            ...                           ...  \n",
       "500  {'x': 0.74151, 'y': 0.41624}  {'x': 0.72884, 'y': 0.50441}  \n",
       "501  {'x': 0.63144, 'y': 0.48273}  {'x': 0.62655, 'y': 0.52166}  \n",
       "502  {'x': 0.74324, 'y': 0.47545}  {'x': 0.74439, 'y': 0.56103}  \n",
       "503  {'x': 0.66163, 'y': 0.54632}   {'x': 0.6637, 'y': 0.60188}  \n",
       "504  {'x': 0.59838, 'y': 0.59356}  {'x': 0.59838, 'y': 0.66981}  \n",
       "\n",
       "[505 rows x 4 columns]"
      ]
     },
     "execution_count": 36,
     "metadata": {},
     "output_type": "execute_result"
    }
   ],
   "source": [
    "coordinates_df = pd.DataFrame(data['location'].apply(sort_coords).to_list(), columns = ['bottom_left', \n",
    "                                                                                        'upper_left', \n",
    "                                                                                        'bottom_right', \n",
    "                                                                                        'upper_right'])\n",
    "coordinates_df"
   ]
  },
  {
   "cell_type": "code",
   "execution_count": 37,
   "id": "ee575691",
   "metadata": {
    "scrolled": false
   },
   "outputs": [
    {
     "data": {
      "text/html": [
       "<div>\n",
       "<style scoped>\n",
       "    .dataframe tbody tr th:only-of-type {\n",
       "        vertical-align: middle;\n",
       "    }\n",
       "\n",
       "    .dataframe tbody tr th {\n",
       "        vertical-align: top;\n",
       "    }\n",
       "\n",
       "    .dataframe thead th {\n",
       "        text-align: right;\n",
       "    }\n",
       "</style>\n",
       "<table border=\"1\" class=\"dataframe\">\n",
       "  <thead>\n",
       "    <tr style=\"text-align: right;\">\n",
       "      <th></th>\n",
       "      <th>photo_name</th>\n",
       "      <th>value</th>\n",
       "      <th>bottom_left</th>\n",
       "      <th>upper_left</th>\n",
       "      <th>bottom_right</th>\n",
       "      <th>upper_right</th>\n",
       "    </tr>\n",
       "  </thead>\n",
       "  <tbody>\n",
       "    <tr>\n",
       "      <th>0</th>\n",
       "      <td>id_407_value_21_86.jpg</td>\n",
       "      <td>21.860</td>\n",
       "      <td>{'x': 0.27545, 'y': 0.19134}</td>\n",
       "      <td>{'x': 0.28185, 'y': 0.76613}</td>\n",
       "      <td>{'x': 0.37483, 'y': 0.18282}</td>\n",
       "      <td>{'x': 0.38935, 'y': 0.76071}</td>\n",
       "    </tr>\n",
       "    <tr>\n",
       "      <th>1</th>\n",
       "      <td>id_252_value_313_322.jpg</td>\n",
       "      <td>313.322</td>\n",
       "      <td>{'x': 0.21967, 'y': 0.50845}</td>\n",
       "      <td>{'x': 0.21699, 'y': 0.58883}</td>\n",
       "      <td>{'x': 0.70811, 'y': 0.53256}</td>\n",
       "      <td>{'x': 0.70008, 'y': 0.61295}</td>\n",
       "    </tr>\n",
       "    <tr>\n",
       "      <th>2</th>\n",
       "      <td>id_1204_value_78_677.jpg</td>\n",
       "      <td>78.677</td>\n",
       "      <td>{'x': 0.26854, 'y': 0.38812}</td>\n",
       "      <td>{'x': 0.27392, 'y': 0.47409}</td>\n",
       "      <td>{'x': 0.56977, 'y': 0.33109}</td>\n",
       "      <td>{'x': 0.57225, 'y': 0.41451}</td>\n",
       "    </tr>\n",
       "    <tr>\n",
       "      <th>3</th>\n",
       "      <td>id_672_value_350_806.jpg</td>\n",
       "      <td>350.806</td>\n",
       "      <td>{'x': 0.36175, 'y': 0.59318}</td>\n",
       "      <td>{'x': 0.35917, 'y': 0.6288}</td>\n",
       "      <td>{'x': 0.59448, 'y': 0.60093}</td>\n",
       "      <td>{'x': 0.59294, 'y': 0.63693}</td>\n",
       "    </tr>\n",
       "    <tr>\n",
       "      <th>4</th>\n",
       "      <td>id_2_value_495_341.jpg</td>\n",
       "      <td>495.341</td>\n",
       "      <td>{'x': 0.26521, 'y': 0.5183}</td>\n",
       "      <td>{'x': 0.27057, 'y': 0.58409}</td>\n",
       "      <td>{'x': 0.81616, 'y': 0.51579}</td>\n",
       "      <td>{'x': 0.81973, 'y': 0.57957}</td>\n",
       "    </tr>\n",
       "    <tr>\n",
       "      <th>...</th>\n",
       "      <td>...</td>\n",
       "      <td>...</td>\n",
       "      <td>...</td>\n",
       "      <td>...</td>\n",
       "      <td>...</td>\n",
       "      <td>...</td>\n",
       "    </tr>\n",
       "    <tr>\n",
       "      <th>500</th>\n",
       "      <td>id_1146_value_90_393.jpg</td>\n",
       "      <td>90.393</td>\n",
       "      <td>{'x': 0.24256, 'y': 0.38728}</td>\n",
       "      <td>{'x': 0.23795, 'y': 0.47934}</td>\n",
       "      <td>{'x': 0.74151, 'y': 0.41624}</td>\n",
       "      <td>{'x': 0.72884, 'y': 0.50441}</td>\n",
       "    </tr>\n",
       "    <tr>\n",
       "      <th>501</th>\n",
       "      <td>id_700_value_77_542.jpg</td>\n",
       "      <td>77.542</td>\n",
       "      <td>{'x': 0.25536, 'y': 0.46072}</td>\n",
       "      <td>{'x': 0.2531, 'y': 0.49937}</td>\n",
       "      <td>{'x': 0.63144, 'y': 0.48273}</td>\n",
       "      <td>{'x': 0.62655, 'y': 0.52166}</td>\n",
       "    </tr>\n",
       "    <tr>\n",
       "      <th>502</th>\n",
       "      <td>id_255_value_172_542.jpg</td>\n",
       "      <td>172.542</td>\n",
       "      <td>{'x': 0.2368, 'y': 0.48755}</td>\n",
       "      <td>{'x': 0.23968, 'y': 0.57357}</td>\n",
       "      <td>{'x': 0.74324, 'y': 0.47545}</td>\n",
       "      <td>{'x': 0.74439, 'y': 0.56103}</td>\n",
       "    </tr>\n",
       "    <tr>\n",
       "      <th>503</th>\n",
       "      <td>id_878_value_97_299.jpg</td>\n",
       "      <td>97.299</td>\n",
       "      <td>{'x': 0.30909, 'y': 0.55625}</td>\n",
       "      <td>{'x': 0.31447, 'y': 0.61027}</td>\n",
       "      <td>{'x': 0.66163, 'y': 0.54632}</td>\n",
       "      <td>{'x': 0.6637, 'y': 0.60188}</td>\n",
       "    </tr>\n",
       "    <tr>\n",
       "      <th>504</th>\n",
       "      <td>id_396_value_228_944.jpg</td>\n",
       "      <td>228.944</td>\n",
       "      <td>{'x': 0.35106, 'y': 0.59879}</td>\n",
       "      <td>{'x': 0.35162, 'y': 0.6743}</td>\n",
       "      <td>{'x': 0.59838, 'y': 0.59356}</td>\n",
       "      <td>{'x': 0.59838, 'y': 0.66981}</td>\n",
       "    </tr>\n",
       "  </tbody>\n",
       "</table>\n",
       "<p>505 rows × 6 columns</p>\n",
       "</div>"
      ],
      "text/plain": [
       "                   photo_name    value                   bottom_left  \\\n",
       "0      id_407_value_21_86.jpg   21.860  {'x': 0.27545, 'y': 0.19134}   \n",
       "1    id_252_value_313_322.jpg  313.322  {'x': 0.21967, 'y': 0.50845}   \n",
       "2    id_1204_value_78_677.jpg   78.677  {'x': 0.26854, 'y': 0.38812}   \n",
       "3    id_672_value_350_806.jpg  350.806  {'x': 0.36175, 'y': 0.59318}   \n",
       "4      id_2_value_495_341.jpg  495.341   {'x': 0.26521, 'y': 0.5183}   \n",
       "..                        ...      ...                           ...   \n",
       "500  id_1146_value_90_393.jpg   90.393  {'x': 0.24256, 'y': 0.38728}   \n",
       "501   id_700_value_77_542.jpg   77.542  {'x': 0.25536, 'y': 0.46072}   \n",
       "502  id_255_value_172_542.jpg  172.542   {'x': 0.2368, 'y': 0.48755}   \n",
       "503   id_878_value_97_299.jpg   97.299  {'x': 0.30909, 'y': 0.55625}   \n",
       "504  id_396_value_228_944.jpg  228.944  {'x': 0.35106, 'y': 0.59879}   \n",
       "\n",
       "                       upper_left                  bottom_right  \\\n",
       "0    {'x': 0.28185, 'y': 0.76613}  {'x': 0.37483, 'y': 0.18282}   \n",
       "1    {'x': 0.21699, 'y': 0.58883}  {'x': 0.70811, 'y': 0.53256}   \n",
       "2    {'x': 0.27392, 'y': 0.47409}  {'x': 0.56977, 'y': 0.33109}   \n",
       "3     {'x': 0.35917, 'y': 0.6288}  {'x': 0.59448, 'y': 0.60093}   \n",
       "4    {'x': 0.27057, 'y': 0.58409}  {'x': 0.81616, 'y': 0.51579}   \n",
       "..                            ...                           ...   \n",
       "500  {'x': 0.23795, 'y': 0.47934}  {'x': 0.74151, 'y': 0.41624}   \n",
       "501   {'x': 0.2531, 'y': 0.49937}  {'x': 0.63144, 'y': 0.48273}   \n",
       "502  {'x': 0.23968, 'y': 0.57357}  {'x': 0.74324, 'y': 0.47545}   \n",
       "503  {'x': 0.31447, 'y': 0.61027}  {'x': 0.66163, 'y': 0.54632}   \n",
       "504   {'x': 0.35162, 'y': 0.6743}  {'x': 0.59838, 'y': 0.59356}   \n",
       "\n",
       "                      upper_right  \n",
       "0    {'x': 0.38935, 'y': 0.76071}  \n",
       "1    {'x': 0.70008, 'y': 0.61295}  \n",
       "2    {'x': 0.57225, 'y': 0.41451}  \n",
       "3    {'x': 0.59294, 'y': 0.63693}  \n",
       "4    {'x': 0.81973, 'y': 0.57957}  \n",
       "..                            ...  \n",
       "500  {'x': 0.72884, 'y': 0.50441}  \n",
       "501  {'x': 0.62655, 'y': 0.52166}  \n",
       "502  {'x': 0.74439, 'y': 0.56103}  \n",
       "503   {'x': 0.6637, 'y': 0.60188}  \n",
       "504  {'x': 0.59838, 'y': 0.66981}  \n",
       "\n",
       "[505 rows x 6 columns]"
      ]
     },
     "execution_count": 37,
     "metadata": {},
     "output_type": "execute_result"
    }
   ],
   "source": [
    "data_coords = pd.concat([data.drop(columns=['location']), coordinates_df], axis=1)\n",
    "data_coords"
   ]
  },
  {
   "cell_type": "code",
   "execution_count": 38,
   "id": "6a86bdc0",
   "metadata": {},
   "outputs": [
    {
     "data": {
      "text/html": [
       "<div>\n",
       "<style scoped>\n",
       "    .dataframe tbody tr th:only-of-type {\n",
       "        vertical-align: middle;\n",
       "    }\n",
       "\n",
       "    .dataframe tbody tr th {\n",
       "        vertical-align: top;\n",
       "    }\n",
       "\n",
       "    .dataframe thead th {\n",
       "        text-align: right;\n",
       "    }\n",
       "</style>\n",
       "<table border=\"1\" class=\"dataframe\">\n",
       "  <thead>\n",
       "    <tr style=\"text-align: right;\">\n",
       "      <th></th>\n",
       "      <th>photo_name</th>\n",
       "      <th>value</th>\n",
       "      <th>bottom_left</th>\n",
       "      <th>upper_left</th>\n",
       "      <th>bottom_right</th>\n",
       "      <th>upper_right</th>\n",
       "      <th>coordinates</th>\n",
       "    </tr>\n",
       "  </thead>\n",
       "  <tbody>\n",
       "    <tr>\n",
       "      <th>0</th>\n",
       "      <td>id_407_value_21_86.jpg</td>\n",
       "      <td>21.860</td>\n",
       "      <td>{'x': 0.27545, 'y': 0.19134}</td>\n",
       "      <td>{'x': 0.28185, 'y': 0.76613}</td>\n",
       "      <td>{'x': 0.37483, 'y': 0.18282}</td>\n",
       "      <td>{'x': 0.38935, 'y': 0.76071}</td>\n",
       "      <td>[0.27545, 0.19134, 0.28185, 0.76613, 0.38935, ...</td>\n",
       "    </tr>\n",
       "    <tr>\n",
       "      <th>1</th>\n",
       "      <td>id_252_value_313_322.jpg</td>\n",
       "      <td>313.322</td>\n",
       "      <td>{'x': 0.21967, 'y': 0.50845}</td>\n",
       "      <td>{'x': 0.21699, 'y': 0.58883}</td>\n",
       "      <td>{'x': 0.70811, 'y': 0.53256}</td>\n",
       "      <td>{'x': 0.70008, 'y': 0.61295}</td>\n",
       "      <td>[0.21967, 0.50845, 0.21699, 0.58883, 0.70008, ...</td>\n",
       "    </tr>\n",
       "    <tr>\n",
       "      <th>2</th>\n",
       "      <td>id_1204_value_78_677.jpg</td>\n",
       "      <td>78.677</td>\n",
       "      <td>{'x': 0.26854, 'y': 0.38812}</td>\n",
       "      <td>{'x': 0.27392, 'y': 0.47409}</td>\n",
       "      <td>{'x': 0.56977, 'y': 0.33109}</td>\n",
       "      <td>{'x': 0.57225, 'y': 0.41451}</td>\n",
       "      <td>[0.26854, 0.38812, 0.27392, 0.47409, 0.57225, ...</td>\n",
       "    </tr>\n",
       "    <tr>\n",
       "      <th>3</th>\n",
       "      <td>id_672_value_350_806.jpg</td>\n",
       "      <td>350.806</td>\n",
       "      <td>{'x': 0.36175, 'y': 0.59318}</td>\n",
       "      <td>{'x': 0.35917, 'y': 0.6288}</td>\n",
       "      <td>{'x': 0.59448, 'y': 0.60093}</td>\n",
       "      <td>{'x': 0.59294, 'y': 0.63693}</td>\n",
       "      <td>[0.36175, 0.59318, 0.35917, 0.6288, 0.59294, 0...</td>\n",
       "    </tr>\n",
       "    <tr>\n",
       "      <th>4</th>\n",
       "      <td>id_2_value_495_341.jpg</td>\n",
       "      <td>495.341</td>\n",
       "      <td>{'x': 0.26521, 'y': 0.5183}</td>\n",
       "      <td>{'x': 0.27057, 'y': 0.58409}</td>\n",
       "      <td>{'x': 0.81616, 'y': 0.51579}</td>\n",
       "      <td>{'x': 0.81973, 'y': 0.57957}</td>\n",
       "      <td>[0.26521, 0.5183, 0.27057, 0.58409, 0.81973, 0...</td>\n",
       "    </tr>\n",
       "    <tr>\n",
       "      <th>...</th>\n",
       "      <td>...</td>\n",
       "      <td>...</td>\n",
       "      <td>...</td>\n",
       "      <td>...</td>\n",
       "      <td>...</td>\n",
       "      <td>...</td>\n",
       "      <td>...</td>\n",
       "    </tr>\n",
       "    <tr>\n",
       "      <th>500</th>\n",
       "      <td>id_1146_value_90_393.jpg</td>\n",
       "      <td>90.393</td>\n",
       "      <td>{'x': 0.24256, 'y': 0.38728}</td>\n",
       "      <td>{'x': 0.23795, 'y': 0.47934}</td>\n",
       "      <td>{'x': 0.74151, 'y': 0.41624}</td>\n",
       "      <td>{'x': 0.72884, 'y': 0.50441}</td>\n",
       "      <td>[0.24256, 0.38728, 0.23795, 0.47934, 0.72884, ...</td>\n",
       "    </tr>\n",
       "    <tr>\n",
       "      <th>501</th>\n",
       "      <td>id_700_value_77_542.jpg</td>\n",
       "      <td>77.542</td>\n",
       "      <td>{'x': 0.25536, 'y': 0.46072}</td>\n",
       "      <td>{'x': 0.2531, 'y': 0.49937}</td>\n",
       "      <td>{'x': 0.63144, 'y': 0.48273}</td>\n",
       "      <td>{'x': 0.62655, 'y': 0.52166}</td>\n",
       "      <td>[0.25536, 0.46072, 0.2531, 0.49937, 0.62655, 0...</td>\n",
       "    </tr>\n",
       "    <tr>\n",
       "      <th>502</th>\n",
       "      <td>id_255_value_172_542.jpg</td>\n",
       "      <td>172.542</td>\n",
       "      <td>{'x': 0.2368, 'y': 0.48755}</td>\n",
       "      <td>{'x': 0.23968, 'y': 0.57357}</td>\n",
       "      <td>{'x': 0.74324, 'y': 0.47545}</td>\n",
       "      <td>{'x': 0.74439, 'y': 0.56103}</td>\n",
       "      <td>[0.2368, 0.48755, 0.23968, 0.57357, 0.74439, 0...</td>\n",
       "    </tr>\n",
       "    <tr>\n",
       "      <th>503</th>\n",
       "      <td>id_878_value_97_299.jpg</td>\n",
       "      <td>97.299</td>\n",
       "      <td>{'x': 0.30909, 'y': 0.55625}</td>\n",
       "      <td>{'x': 0.31447, 'y': 0.61027}</td>\n",
       "      <td>{'x': 0.66163, 'y': 0.54632}</td>\n",
       "      <td>{'x': 0.6637, 'y': 0.60188}</td>\n",
       "      <td>[0.30909, 0.55625, 0.31447, 0.61027, 0.6637, 0...</td>\n",
       "    </tr>\n",
       "    <tr>\n",
       "      <th>504</th>\n",
       "      <td>id_396_value_228_944.jpg</td>\n",
       "      <td>228.944</td>\n",
       "      <td>{'x': 0.35106, 'y': 0.59879}</td>\n",
       "      <td>{'x': 0.35162, 'y': 0.6743}</td>\n",
       "      <td>{'x': 0.59838, 'y': 0.59356}</td>\n",
       "      <td>{'x': 0.59838, 'y': 0.66981}</td>\n",
       "      <td>[0.35106, 0.59879, 0.35162, 0.6743, 0.59838, 0...</td>\n",
       "    </tr>\n",
       "  </tbody>\n",
       "</table>\n",
       "<p>505 rows × 7 columns</p>\n",
       "</div>"
      ],
      "text/plain": [
       "                   photo_name    value                   bottom_left  \\\n",
       "0      id_407_value_21_86.jpg   21.860  {'x': 0.27545, 'y': 0.19134}   \n",
       "1    id_252_value_313_322.jpg  313.322  {'x': 0.21967, 'y': 0.50845}   \n",
       "2    id_1204_value_78_677.jpg   78.677  {'x': 0.26854, 'y': 0.38812}   \n",
       "3    id_672_value_350_806.jpg  350.806  {'x': 0.36175, 'y': 0.59318}   \n",
       "4      id_2_value_495_341.jpg  495.341   {'x': 0.26521, 'y': 0.5183}   \n",
       "..                        ...      ...                           ...   \n",
       "500  id_1146_value_90_393.jpg   90.393  {'x': 0.24256, 'y': 0.38728}   \n",
       "501   id_700_value_77_542.jpg   77.542  {'x': 0.25536, 'y': 0.46072}   \n",
       "502  id_255_value_172_542.jpg  172.542   {'x': 0.2368, 'y': 0.48755}   \n",
       "503   id_878_value_97_299.jpg   97.299  {'x': 0.30909, 'y': 0.55625}   \n",
       "504  id_396_value_228_944.jpg  228.944  {'x': 0.35106, 'y': 0.59879}   \n",
       "\n",
       "                       upper_left                  bottom_right  \\\n",
       "0    {'x': 0.28185, 'y': 0.76613}  {'x': 0.37483, 'y': 0.18282}   \n",
       "1    {'x': 0.21699, 'y': 0.58883}  {'x': 0.70811, 'y': 0.53256}   \n",
       "2    {'x': 0.27392, 'y': 0.47409}  {'x': 0.56977, 'y': 0.33109}   \n",
       "3     {'x': 0.35917, 'y': 0.6288}  {'x': 0.59448, 'y': 0.60093}   \n",
       "4    {'x': 0.27057, 'y': 0.58409}  {'x': 0.81616, 'y': 0.51579}   \n",
       "..                            ...                           ...   \n",
       "500  {'x': 0.23795, 'y': 0.47934}  {'x': 0.74151, 'y': 0.41624}   \n",
       "501   {'x': 0.2531, 'y': 0.49937}  {'x': 0.63144, 'y': 0.48273}   \n",
       "502  {'x': 0.23968, 'y': 0.57357}  {'x': 0.74324, 'y': 0.47545}   \n",
       "503  {'x': 0.31447, 'y': 0.61027}  {'x': 0.66163, 'y': 0.54632}   \n",
       "504   {'x': 0.35162, 'y': 0.6743}  {'x': 0.59838, 'y': 0.59356}   \n",
       "\n",
       "                      upper_right  \\\n",
       "0    {'x': 0.38935, 'y': 0.76071}   \n",
       "1    {'x': 0.70008, 'y': 0.61295}   \n",
       "2    {'x': 0.57225, 'y': 0.41451}   \n",
       "3    {'x': 0.59294, 'y': 0.63693}   \n",
       "4    {'x': 0.81973, 'y': 0.57957}   \n",
       "..                            ...   \n",
       "500  {'x': 0.72884, 'y': 0.50441}   \n",
       "501  {'x': 0.62655, 'y': 0.52166}   \n",
       "502  {'x': 0.74439, 'y': 0.56103}   \n",
       "503   {'x': 0.6637, 'y': 0.60188}   \n",
       "504  {'x': 0.59838, 'y': 0.66981}   \n",
       "\n",
       "                                           coordinates  \n",
       "0    [0.27545, 0.19134, 0.28185, 0.76613, 0.38935, ...  \n",
       "1    [0.21967, 0.50845, 0.21699, 0.58883, 0.70008, ...  \n",
       "2    [0.26854, 0.38812, 0.27392, 0.47409, 0.57225, ...  \n",
       "3    [0.36175, 0.59318, 0.35917, 0.6288, 0.59294, 0...  \n",
       "4    [0.26521, 0.5183, 0.27057, 0.58409, 0.81973, 0...  \n",
       "..                                                 ...  \n",
       "500  [0.24256, 0.38728, 0.23795, 0.47934, 0.72884, ...  \n",
       "501  [0.25536, 0.46072, 0.2531, 0.49937, 0.62655, 0...  \n",
       "502  [0.2368, 0.48755, 0.23968, 0.57357, 0.74439, 0...  \n",
       "503  [0.30909, 0.55625, 0.31447, 0.61027, 0.6637, 0...  \n",
       "504  [0.35106, 0.59879, 0.35162, 0.6743, 0.59838, 0...  \n",
       "\n",
       "[505 rows x 7 columns]"
      ]
     },
     "execution_count": 38,
     "metadata": {},
     "output_type": "execute_result"
    }
   ],
   "source": [
    "data_coords['coordinates'] = data_coords.apply(lambda x: list(x['bottom_left'].values()) + \\\n",
    "                                               list(x['upper_left'].values()) + \\\n",
    "                                               list(x['upper_right'].values()) + \\\n",
    "                                               list(x['bottom_right'].values()), axis=1)\n",
    "data_coords['coordinates'] = data_coords['coordinates'].apply(lambda x: np.array(x, dtype='float'))\n",
    "data_coords"
   ]
  },
  {
   "cell_type": "markdown",
   "id": "7b8f12c0",
   "metadata": {},
   "source": [
    "# Загрузка изображений"
   ]
  },
  {
   "cell_type": "code",
   "execution_count": 10,
   "id": "07b8a222",
   "metadata": {},
   "outputs": [],
   "source": [
    "images_data = []\n",
    "dirname = r\"C:\\Users\\Anton\\Downloads\\TlkWaterMeters\\images\"\n",
    "\n",
    "for filename in data_coords['photo_name']:\n",
    "    img = cv2.imread(os.path.join(dirname, filename)) / 255.0\n",
    "    img = cv2.resize(img, (224, 224))\n",
    "    img = img.flatten()\n",
    "    images_data.append(img)\n",
    "\n",
    "images_data = np.array(images_data)"
   ]
  },
  {
   "cell_type": "code",
   "execution_count": 11,
   "id": "dc68867b",
   "metadata": {},
   "outputs": [],
   "source": [
    "gray_images_data = []\n",
    "dirname = r\"C:\\Users\\Anton\\Downloads\\TlkWaterMeters\\images\"\n",
    "\n",
    "for filename in data_coords['photo_name']:\n",
    "    img = cv2.imread(os.path.join(dirname, filename))\n",
    "    img = cv2.resize(img, (224, 224))\n",
    "    img = cv2.cvtColor(img, cv2.COLOR_BGR2GRAY)\n",
    "#     (thresh, img) = cv2.threshold(img, 127, 255, cv2.THRESH_BINARY)\n",
    "    img = img.flatten()\n",
    "    gray_images_data.append(img)\n",
    "\n",
    "gray_images_data = np.array(gray_images_data)"
   ]
  },
  {
   "cell_type": "code",
   "execution_count": 12,
   "id": "496d79a6",
   "metadata": {},
   "outputs": [],
   "source": [
    "bw_images_data = []\n",
    "dirname = r\"C:\\Users\\Anton\\Downloads\\TlkWaterMeters\\images\"\n",
    "\n",
    "for filename in data_coords['photo_name']:\n",
    "    img = cv2.imread(os.path.join(dirname, filename))\n",
    "    img = cv2.resize(img, (224, 224))\n",
    "    img = cv2.cvtColor(img, cv2.COLOR_BGR2GRAY)\n",
    "    (thresh, img) = cv2.threshold(img, 127, 255, cv2.THRESH_BINARY)\n",
    "    img = img.flatten()\n",
    "    bw_images_data.append(img)\n",
    "\n",
    "bw_images_data = np.array(bw_images_data)"
   ]
  },
  {
   "cell_type": "code",
   "execution_count": 13,
   "id": "376d4709",
   "metadata": {},
   "outputs": [],
   "source": [
    "masks_data = []\n",
    "dirname = r\"C:\\Users\\Anton\\Downloads\\TlkWaterMeters\\masks\"\n",
    "\n",
    "for filename in data_coords['photo_name']:\n",
    "    img = cv2.imread(os.path.join(dirname, filename)) / 255.0\n",
    "    img = cv2.resize(img, (224, 224))\n",
    "    img = img.flatten()\n",
    "    masks_data.append(img)\n",
    "\n",
    "masks_data = np.array(masks_data)"
   ]
  },
  {
   "cell_type": "markdown",
   "id": "94c827f2",
   "metadata": {},
   "source": [
    "# Линейная регрессия"
   ]
  },
  {
   "cell_type": "code",
   "execution_count": 39,
   "id": "0b7bd673",
   "metadata": {},
   "outputs": [],
   "source": [
    "from sklearn.linear_model import LinearRegression\n",
    "from sklearn.model_selection import train_test_split\n",
    "from sklearn.metrics import accuracy_score"
   ]
  },
  {
   "cell_type": "code",
   "execution_count": 40,
   "id": "0c8c4e98",
   "metadata": {},
   "outputs": [],
   "source": [
    "x_train, x_test, y_train, y_test = train_test_split(images_data, \n",
    "                                                    np.array(data_coords['coordinates'].values.tolist()), \n",
    "                                                    test_size=0.33, random_state=42)"
   ]
  },
  {
   "cell_type": "code",
   "execution_count": 41,
   "id": "76a17bc3",
   "metadata": {},
   "outputs": [
    {
     "data": {
      "text/html": [
       "<style>#sk-container-id-1 {color: black;background-color: white;}#sk-container-id-1 pre{padding: 0;}#sk-container-id-1 div.sk-toggleable {background-color: white;}#sk-container-id-1 label.sk-toggleable__label {cursor: pointer;display: block;width: 100%;margin-bottom: 0;padding: 0.3em;box-sizing: border-box;text-align: center;}#sk-container-id-1 label.sk-toggleable__label-arrow:before {content: \"▸\";float: left;margin-right: 0.25em;color: #696969;}#sk-container-id-1 label.sk-toggleable__label-arrow:hover:before {color: black;}#sk-container-id-1 div.sk-estimator:hover label.sk-toggleable__label-arrow:before {color: black;}#sk-container-id-1 div.sk-toggleable__content {max-height: 0;max-width: 0;overflow: hidden;text-align: left;background-color: #f0f8ff;}#sk-container-id-1 div.sk-toggleable__content pre {margin: 0.2em;color: black;border-radius: 0.25em;background-color: #f0f8ff;}#sk-container-id-1 input.sk-toggleable__control:checked~div.sk-toggleable__content {max-height: 200px;max-width: 100%;overflow: auto;}#sk-container-id-1 input.sk-toggleable__control:checked~label.sk-toggleable__label-arrow:before {content: \"▾\";}#sk-container-id-1 div.sk-estimator input.sk-toggleable__control:checked~label.sk-toggleable__label {background-color: #d4ebff;}#sk-container-id-1 div.sk-label input.sk-toggleable__control:checked~label.sk-toggleable__label {background-color: #d4ebff;}#sk-container-id-1 input.sk-hidden--visually {border: 0;clip: rect(1px 1px 1px 1px);clip: rect(1px, 1px, 1px, 1px);height: 1px;margin: -1px;overflow: hidden;padding: 0;position: absolute;width: 1px;}#sk-container-id-1 div.sk-estimator {font-family: monospace;background-color: #f0f8ff;border: 1px dotted black;border-radius: 0.25em;box-sizing: border-box;margin-bottom: 0.5em;}#sk-container-id-1 div.sk-estimator:hover {background-color: #d4ebff;}#sk-container-id-1 div.sk-parallel-item::after {content: \"\";width: 100%;border-bottom: 1px solid gray;flex-grow: 1;}#sk-container-id-1 div.sk-label:hover label.sk-toggleable__label {background-color: #d4ebff;}#sk-container-id-1 div.sk-serial::before {content: \"\";position: absolute;border-left: 1px solid gray;box-sizing: border-box;top: 0;bottom: 0;left: 50%;z-index: 0;}#sk-container-id-1 div.sk-serial {display: flex;flex-direction: column;align-items: center;background-color: white;padding-right: 0.2em;padding-left: 0.2em;position: relative;}#sk-container-id-1 div.sk-item {position: relative;z-index: 1;}#sk-container-id-1 div.sk-parallel {display: flex;align-items: stretch;justify-content: center;background-color: white;position: relative;}#sk-container-id-1 div.sk-item::before, #sk-container-id-1 div.sk-parallel-item::before {content: \"\";position: absolute;border-left: 1px solid gray;box-sizing: border-box;top: 0;bottom: 0;left: 50%;z-index: -1;}#sk-container-id-1 div.sk-parallel-item {display: flex;flex-direction: column;z-index: 1;position: relative;background-color: white;}#sk-container-id-1 div.sk-parallel-item:first-child::after {align-self: flex-end;width: 50%;}#sk-container-id-1 div.sk-parallel-item:last-child::after {align-self: flex-start;width: 50%;}#sk-container-id-1 div.sk-parallel-item:only-child::after {width: 0;}#sk-container-id-1 div.sk-dashed-wrapped {border: 1px dashed gray;margin: 0 0.4em 0.5em 0.4em;box-sizing: border-box;padding-bottom: 0.4em;background-color: white;}#sk-container-id-1 div.sk-label label {font-family: monospace;font-weight: bold;display: inline-block;line-height: 1.2em;}#sk-container-id-1 div.sk-label-container {text-align: center;}#sk-container-id-1 div.sk-container {/* jupyter's `normalize.less` sets `[hidden] { display: none; }` but bootstrap.min.css set `[hidden] { display: none !important; }` so we also need the `!important` here to be able to override the default hidden behavior on the sphinx rendered scikit-learn.org. See: https://github.com/scikit-learn/scikit-learn/issues/21755 */display: inline-block !important;position: relative;}#sk-container-id-1 div.sk-text-repr-fallback {display: none;}</style><div id=\"sk-container-id-1\" class=\"sk-top-container\"><div class=\"sk-text-repr-fallback\"><pre>LinearRegression()</pre><b>In a Jupyter environment, please rerun this cell to show the HTML representation or trust the notebook. <br />On GitHub, the HTML representation is unable to render, please try loading this page with nbviewer.org.</b></div><div class=\"sk-container\" hidden><div class=\"sk-item\"><div class=\"sk-estimator sk-toggleable\"><input class=\"sk-toggleable__control sk-hidden--visually\" id=\"sk-estimator-id-1\" type=\"checkbox\" checked><label for=\"sk-estimator-id-1\" class=\"sk-toggleable__label sk-toggleable__label-arrow\">LinearRegression</label><div class=\"sk-toggleable__content\"><pre>LinearRegression()</pre></div></div></div></div></div>"
      ],
      "text/plain": [
       "LinearRegression()"
      ]
     },
     "execution_count": 41,
     "metadata": {},
     "output_type": "execute_result"
    }
   ],
   "source": [
    "lr = LinearRegression()\n",
    "lr.fit(x_train, y_train)"
   ]
  },
  {
   "cell_type": "code",
   "execution_count": 42,
   "id": "83cdcb49",
   "metadata": {},
   "outputs": [],
   "source": [
    "y_pred = lr.predict(x_test)"
   ]
  },
  {
   "cell_type": "code",
   "execution_count": 54,
   "id": "5009e882",
   "metadata": {},
   "outputs": [],
   "source": [
    "from shapely.geometry import Polygon"
   ]
  },
  {
   "cell_type": "code",
   "execution_count": 99,
   "id": "6c97c54e",
   "metadata": {},
   "outputs": [],
   "source": [
    "def intersection_loss(y_true, y_pred):\n",
    "    test = y_true.reshape((4, 2))\n",
    "    pred = y_pred.reshape((4, 2))\n",
    "    \n",
    "    try:\n",
    "        poly_pred = Polygon(pred)\n",
    "        poly_test = Polygon(test)\n",
    "\n",
    "        intersection_area = poly_pred.intersection(poly_test).area\n",
    "    except:\n",
    "        return None\n",
    "    \n",
    "    return intersection_area/poly_test.area"
   ]
  },
  {
   "cell_type": "code",
   "execution_count": 64,
   "id": "b3eb4f72",
   "metadata": {},
   "outputs": [
    {
     "data": {
      "text/plain": [
       "0.23126000166901448"
      ]
     },
     "execution_count": 64,
     "metadata": {},
     "output_type": "execute_result"
    }
   ],
   "source": [
    "np.array([intersection_loss(*y) for y in zip(y_test, y_pred)]).mean()"
   ]
  },
  {
   "cell_type": "markdown",
   "id": "342a0957",
   "metadata": {},
   "source": [
    "# Линейная регрессия с grayscale изображениями"
   ]
  },
  {
   "cell_type": "code",
   "execution_count": 65,
   "id": "8adb79f8",
   "metadata": {},
   "outputs": [],
   "source": [
    "gray_x_train, gray_x_test, gray_y_train, gray_y_test = train_test_split(gray_images_data, \n",
    "                                                                        np.array(data_coords['coordinates'].values.tolist()), \n",
    "                                                                        test_size=0.33, random_state=42)"
   ]
  },
  {
   "cell_type": "code",
   "execution_count": 66,
   "id": "406f2017",
   "metadata": {},
   "outputs": [
    {
     "data": {
      "text/html": [
       "<style>#sk-container-id-2 {color: black;background-color: white;}#sk-container-id-2 pre{padding: 0;}#sk-container-id-2 div.sk-toggleable {background-color: white;}#sk-container-id-2 label.sk-toggleable__label {cursor: pointer;display: block;width: 100%;margin-bottom: 0;padding: 0.3em;box-sizing: border-box;text-align: center;}#sk-container-id-2 label.sk-toggleable__label-arrow:before {content: \"▸\";float: left;margin-right: 0.25em;color: #696969;}#sk-container-id-2 label.sk-toggleable__label-arrow:hover:before {color: black;}#sk-container-id-2 div.sk-estimator:hover label.sk-toggleable__label-arrow:before {color: black;}#sk-container-id-2 div.sk-toggleable__content {max-height: 0;max-width: 0;overflow: hidden;text-align: left;background-color: #f0f8ff;}#sk-container-id-2 div.sk-toggleable__content pre {margin: 0.2em;color: black;border-radius: 0.25em;background-color: #f0f8ff;}#sk-container-id-2 input.sk-toggleable__control:checked~div.sk-toggleable__content {max-height: 200px;max-width: 100%;overflow: auto;}#sk-container-id-2 input.sk-toggleable__control:checked~label.sk-toggleable__label-arrow:before {content: \"▾\";}#sk-container-id-2 div.sk-estimator input.sk-toggleable__control:checked~label.sk-toggleable__label {background-color: #d4ebff;}#sk-container-id-2 div.sk-label input.sk-toggleable__control:checked~label.sk-toggleable__label {background-color: #d4ebff;}#sk-container-id-2 input.sk-hidden--visually {border: 0;clip: rect(1px 1px 1px 1px);clip: rect(1px, 1px, 1px, 1px);height: 1px;margin: -1px;overflow: hidden;padding: 0;position: absolute;width: 1px;}#sk-container-id-2 div.sk-estimator {font-family: monospace;background-color: #f0f8ff;border: 1px dotted black;border-radius: 0.25em;box-sizing: border-box;margin-bottom: 0.5em;}#sk-container-id-2 div.sk-estimator:hover {background-color: #d4ebff;}#sk-container-id-2 div.sk-parallel-item::after {content: \"\";width: 100%;border-bottom: 1px solid gray;flex-grow: 1;}#sk-container-id-2 div.sk-label:hover label.sk-toggleable__label {background-color: #d4ebff;}#sk-container-id-2 div.sk-serial::before {content: \"\";position: absolute;border-left: 1px solid gray;box-sizing: border-box;top: 0;bottom: 0;left: 50%;z-index: 0;}#sk-container-id-2 div.sk-serial {display: flex;flex-direction: column;align-items: center;background-color: white;padding-right: 0.2em;padding-left: 0.2em;position: relative;}#sk-container-id-2 div.sk-item {position: relative;z-index: 1;}#sk-container-id-2 div.sk-parallel {display: flex;align-items: stretch;justify-content: center;background-color: white;position: relative;}#sk-container-id-2 div.sk-item::before, #sk-container-id-2 div.sk-parallel-item::before {content: \"\";position: absolute;border-left: 1px solid gray;box-sizing: border-box;top: 0;bottom: 0;left: 50%;z-index: -1;}#sk-container-id-2 div.sk-parallel-item {display: flex;flex-direction: column;z-index: 1;position: relative;background-color: white;}#sk-container-id-2 div.sk-parallel-item:first-child::after {align-self: flex-end;width: 50%;}#sk-container-id-2 div.sk-parallel-item:last-child::after {align-self: flex-start;width: 50%;}#sk-container-id-2 div.sk-parallel-item:only-child::after {width: 0;}#sk-container-id-2 div.sk-dashed-wrapped {border: 1px dashed gray;margin: 0 0.4em 0.5em 0.4em;box-sizing: border-box;padding-bottom: 0.4em;background-color: white;}#sk-container-id-2 div.sk-label label {font-family: monospace;font-weight: bold;display: inline-block;line-height: 1.2em;}#sk-container-id-2 div.sk-label-container {text-align: center;}#sk-container-id-2 div.sk-container {/* jupyter's `normalize.less` sets `[hidden] { display: none; }` but bootstrap.min.css set `[hidden] { display: none !important; }` so we also need the `!important` here to be able to override the default hidden behavior on the sphinx rendered scikit-learn.org. See: https://github.com/scikit-learn/scikit-learn/issues/21755 */display: inline-block !important;position: relative;}#sk-container-id-2 div.sk-text-repr-fallback {display: none;}</style><div id=\"sk-container-id-2\" class=\"sk-top-container\"><div class=\"sk-text-repr-fallback\"><pre>LinearRegression()</pre><b>In a Jupyter environment, please rerun this cell to show the HTML representation or trust the notebook. <br />On GitHub, the HTML representation is unable to render, please try loading this page with nbviewer.org.</b></div><div class=\"sk-container\" hidden><div class=\"sk-item\"><div class=\"sk-estimator sk-toggleable\"><input class=\"sk-toggleable__control sk-hidden--visually\" id=\"sk-estimator-id-2\" type=\"checkbox\" checked><label for=\"sk-estimator-id-2\" class=\"sk-toggleable__label sk-toggleable__label-arrow\">LinearRegression</label><div class=\"sk-toggleable__content\"><pre>LinearRegression()</pre></div></div></div></div></div>"
      ],
      "text/plain": [
       "LinearRegression()"
      ]
     },
     "execution_count": 66,
     "metadata": {},
     "output_type": "execute_result"
    }
   ],
   "source": [
    "gray_lr = LinearRegression()\n",
    "gray_lr.fit(gray_x_train, gray_y_train)"
   ]
  },
  {
   "cell_type": "code",
   "execution_count": 67,
   "id": "7e604a3f",
   "metadata": {},
   "outputs": [],
   "source": [
    "gray_y_pred = gray_lr.predict(gray_x_test)"
   ]
  },
  {
   "cell_type": "code",
   "execution_count": 68,
   "id": "8769a18b",
   "metadata": {},
   "outputs": [
    {
     "data": {
      "text/plain": [
       "0.2248381983487344"
      ]
     },
     "execution_count": 68,
     "metadata": {},
     "output_type": "execute_result"
    }
   ],
   "source": [
    "np.array([intersection_loss(*y) for y in zip(gray_y_test, gray_y_pred)]).mean()"
   ]
  },
  {
   "cell_type": "markdown",
   "id": "3e4d8f13",
   "metadata": {},
   "source": [
    "# Линейная регрессия с черно-белыми изображениями"
   ]
  },
  {
   "cell_type": "code",
   "execution_count": 69,
   "id": "2f5e10ce",
   "metadata": {},
   "outputs": [],
   "source": [
    "bw_x_train, bw_x_test, bw_y_train, bw_y_test = train_test_split(bw_images_data, \n",
    "                                                                np.array(data_coords['coordinates'].values.tolist()), \n",
    "                                                                test_size=0.33, random_state=42)"
   ]
  },
  {
   "cell_type": "code",
   "execution_count": 70,
   "id": "02ef3ba5",
   "metadata": {},
   "outputs": [
    {
     "data": {
      "text/html": [
       "<style>#sk-container-id-3 {color: black;background-color: white;}#sk-container-id-3 pre{padding: 0;}#sk-container-id-3 div.sk-toggleable {background-color: white;}#sk-container-id-3 label.sk-toggleable__label {cursor: pointer;display: block;width: 100%;margin-bottom: 0;padding: 0.3em;box-sizing: border-box;text-align: center;}#sk-container-id-3 label.sk-toggleable__label-arrow:before {content: \"▸\";float: left;margin-right: 0.25em;color: #696969;}#sk-container-id-3 label.sk-toggleable__label-arrow:hover:before {color: black;}#sk-container-id-3 div.sk-estimator:hover label.sk-toggleable__label-arrow:before {color: black;}#sk-container-id-3 div.sk-toggleable__content {max-height: 0;max-width: 0;overflow: hidden;text-align: left;background-color: #f0f8ff;}#sk-container-id-3 div.sk-toggleable__content pre {margin: 0.2em;color: black;border-radius: 0.25em;background-color: #f0f8ff;}#sk-container-id-3 input.sk-toggleable__control:checked~div.sk-toggleable__content {max-height: 200px;max-width: 100%;overflow: auto;}#sk-container-id-3 input.sk-toggleable__control:checked~label.sk-toggleable__label-arrow:before {content: \"▾\";}#sk-container-id-3 div.sk-estimator input.sk-toggleable__control:checked~label.sk-toggleable__label {background-color: #d4ebff;}#sk-container-id-3 div.sk-label input.sk-toggleable__control:checked~label.sk-toggleable__label {background-color: #d4ebff;}#sk-container-id-3 input.sk-hidden--visually {border: 0;clip: rect(1px 1px 1px 1px);clip: rect(1px, 1px, 1px, 1px);height: 1px;margin: -1px;overflow: hidden;padding: 0;position: absolute;width: 1px;}#sk-container-id-3 div.sk-estimator {font-family: monospace;background-color: #f0f8ff;border: 1px dotted black;border-radius: 0.25em;box-sizing: border-box;margin-bottom: 0.5em;}#sk-container-id-3 div.sk-estimator:hover {background-color: #d4ebff;}#sk-container-id-3 div.sk-parallel-item::after {content: \"\";width: 100%;border-bottom: 1px solid gray;flex-grow: 1;}#sk-container-id-3 div.sk-label:hover label.sk-toggleable__label {background-color: #d4ebff;}#sk-container-id-3 div.sk-serial::before {content: \"\";position: absolute;border-left: 1px solid gray;box-sizing: border-box;top: 0;bottom: 0;left: 50%;z-index: 0;}#sk-container-id-3 div.sk-serial {display: flex;flex-direction: column;align-items: center;background-color: white;padding-right: 0.2em;padding-left: 0.2em;position: relative;}#sk-container-id-3 div.sk-item {position: relative;z-index: 1;}#sk-container-id-3 div.sk-parallel {display: flex;align-items: stretch;justify-content: center;background-color: white;position: relative;}#sk-container-id-3 div.sk-item::before, #sk-container-id-3 div.sk-parallel-item::before {content: \"\";position: absolute;border-left: 1px solid gray;box-sizing: border-box;top: 0;bottom: 0;left: 50%;z-index: -1;}#sk-container-id-3 div.sk-parallel-item {display: flex;flex-direction: column;z-index: 1;position: relative;background-color: white;}#sk-container-id-3 div.sk-parallel-item:first-child::after {align-self: flex-end;width: 50%;}#sk-container-id-3 div.sk-parallel-item:last-child::after {align-self: flex-start;width: 50%;}#sk-container-id-3 div.sk-parallel-item:only-child::after {width: 0;}#sk-container-id-3 div.sk-dashed-wrapped {border: 1px dashed gray;margin: 0 0.4em 0.5em 0.4em;box-sizing: border-box;padding-bottom: 0.4em;background-color: white;}#sk-container-id-3 div.sk-label label {font-family: monospace;font-weight: bold;display: inline-block;line-height: 1.2em;}#sk-container-id-3 div.sk-label-container {text-align: center;}#sk-container-id-3 div.sk-container {/* jupyter's `normalize.less` sets `[hidden] { display: none; }` but bootstrap.min.css set `[hidden] { display: none !important; }` so we also need the `!important` here to be able to override the default hidden behavior on the sphinx rendered scikit-learn.org. See: https://github.com/scikit-learn/scikit-learn/issues/21755 */display: inline-block !important;position: relative;}#sk-container-id-3 div.sk-text-repr-fallback {display: none;}</style><div id=\"sk-container-id-3\" class=\"sk-top-container\"><div class=\"sk-text-repr-fallback\"><pre>LinearRegression()</pre><b>In a Jupyter environment, please rerun this cell to show the HTML representation or trust the notebook. <br />On GitHub, the HTML representation is unable to render, please try loading this page with nbviewer.org.</b></div><div class=\"sk-container\" hidden><div class=\"sk-item\"><div class=\"sk-estimator sk-toggleable\"><input class=\"sk-toggleable__control sk-hidden--visually\" id=\"sk-estimator-id-3\" type=\"checkbox\" checked><label for=\"sk-estimator-id-3\" class=\"sk-toggleable__label sk-toggleable__label-arrow\">LinearRegression</label><div class=\"sk-toggleable__content\"><pre>LinearRegression()</pre></div></div></div></div></div>"
      ],
      "text/plain": [
       "LinearRegression()"
      ]
     },
     "execution_count": 70,
     "metadata": {},
     "output_type": "execute_result"
    }
   ],
   "source": [
    "bw_lr = LinearRegression()\n",
    "bw_lr.fit(bw_x_train, bw_y_train)"
   ]
  },
  {
   "cell_type": "code",
   "execution_count": 71,
   "id": "dfa75084",
   "metadata": {},
   "outputs": [],
   "source": [
    "bw_y_pred = bw_lr.predict(bw_x_test)"
   ]
  },
  {
   "cell_type": "code",
   "execution_count": 72,
   "id": "2f96fbac",
   "metadata": {},
   "outputs": [
    {
     "data": {
      "text/plain": [
       "0.22494914587975845"
      ]
     },
     "execution_count": 72,
     "metadata": {},
     "output_type": "execute_result"
    }
   ],
   "source": [
    "np.array([intersection_loss(*y) for y in zip(bw_y_test, bw_y_pred)]).mean()"
   ]
  },
  {
   "cell_type": "markdown",
   "id": "f11e5a73",
   "metadata": {},
   "source": [
    "# KNeighborsRegressor + grayscale"
   ]
  },
  {
   "cell_type": "code",
   "execution_count": 77,
   "id": "4fac3799",
   "metadata": {},
   "outputs": [],
   "source": [
    "from sklearn.neighbors import KNeighborsRegressor"
   ]
  },
  {
   "cell_type": "code",
   "execution_count": 78,
   "id": "63f2c9e3",
   "metadata": {},
   "outputs": [],
   "source": [
    "parameters = {\n",
    "    'n_neighbors': [3, 5, 10],\n",
    "    'weights': ['uniform', 'distance'],\n",
    "    'p': [1, 2]\n",
    "}"
   ]
  },
  {
   "cell_type": "code",
   "execution_count": 76,
   "id": "507144be",
   "metadata": {
    "scrolled": true
   },
   "outputs": [
    {
     "name": "stdout",
     "output_type": "stream",
     "text": [
      "START: n_neighbors=3, weights=uniform, p=1... SCORE: 0.247... END\n",
      "START: n_neighbors=3, weights=uniform, p=2... SCORE: 0.272... END\n",
      "START: n_neighbors=3, weights=distance, p=1... SCORE: 0.249... END\n",
      "START: n_neighbors=3, weights=distance, p=2... SCORE: 0.273... END\n",
      "START: n_neighbors=5, weights=uniform, p=1... SCORE: 0.239... END\n",
      "START: n_neighbors=5, weights=uniform, p=2... SCORE: 0.252... END\n",
      "START: n_neighbors=5, weights=distance, p=1... SCORE: 0.240... END\n",
      "START: n_neighbors=5, weights=distance, p=2... SCORE: 0.254... END\n",
      "START: n_neighbors=10, weights=uniform, p=1... SCORE: 0.229... END\n",
      "START: n_neighbors=10, weights=uniform, p=2... SCORE: 0.248... END\n",
      "START: n_neighbors=10, weights=distance, p=1... SCORE: 0.227... END\n",
      "START: n_neighbors=10, weights=distance, p=2... SCORE: 0.249... END\n"
     ]
    }
   ],
   "source": [
    "models = []\n",
    "best_score = 0\n",
    "best_params = {}\n",
    "best_model = None\n",
    "\n",
    "for n_neighbors in parameters['n_neighbors']:\n",
    "    for weights in parameters['weights']:\n",
    "        for p in parameters['p']:\n",
    "            print(f'START: n_neighbors={n_neighbors}, weights={weights}, p={p}', end='... ')\n",
    "            \n",
    "            model = KNeighborsRegressor(n_neighbors=n_neighbors, weights=weights, p=p)\n",
    "            model.fit(gray_x_train, gray_y_train)\n",
    "            models.append(model)\n",
    "            \n",
    "            y_pred_knn = model.predict(gray_x_test)\n",
    "            score = np.array([intersection_loss(*y) for y in zip(gray_y_test, y_pred_knn)]).mean()\n",
    "            print(f'SCORE: {score:.3f}', end='... ')\n",
    "            \n",
    "            if score > best_score:\n",
    "                best_model = model\n",
    "                best_score = score\n",
    "                best_params['n_neighbors'] = n_neighbors\n",
    "                best_params['weights'] = weights\n",
    "                best_params['p'] = p\n",
    "            \n",
    "            print('END')"
   ]
  },
  {
   "cell_type": "markdown",
   "id": "0902561b",
   "metadata": {},
   "source": [
    "# KNeighborsRegressor"
   ]
  },
  {
   "cell_type": "code",
   "execution_count": 79,
   "id": "06b8bae2",
   "metadata": {
    "scrolled": true
   },
   "outputs": [
    {
     "name": "stdout",
     "output_type": "stream",
     "text": [
      "START: n_neighbors=3, weights=uniform, p=1... SCORE: 0.246... END\n",
      "START: n_neighbors=3, weights=uniform, p=2... SCORE: 0.309... END\n",
      "START: n_neighbors=3, weights=distance, p=1... SCORE: 0.247... END\n",
      "START: n_neighbors=3, weights=distance, p=2... SCORE: 0.309... END\n",
      "START: n_neighbors=5, weights=uniform, p=1... SCORE: 0.246... END\n",
      "START: n_neighbors=5, weights=uniform, p=2... SCORE: 0.275... END\n",
      "START: n_neighbors=5, weights=distance, p=1... SCORE: 0.247... END\n",
      "START: n_neighbors=5, weights=distance, p=2... SCORE: 0.275... END\n",
      "START: n_neighbors=10, weights=uniform, p=1... SCORE: 0.253... END\n",
      "START: n_neighbors=10, weights=uniform, p=2... SCORE: 0.276... END\n",
      "START: n_neighbors=10, weights=distance, p=1... SCORE: 0.253... END\n",
      "START: n_neighbors=10, weights=distance, p=2... SCORE: 0.277... END\n"
     ]
    }
   ],
   "source": [
    "models = []\n",
    "best_score = 0\n",
    "best_params = {}\n",
    "best_model = None\n",
    "\n",
    "for n_neighbors in parameters['n_neighbors']:\n",
    "    for weights in parameters['weights']:\n",
    "        for p in parameters['p']:\n",
    "            print(f'START: n_neighbors={n_neighbors}, weights={weights}, p={p}', end='... ')\n",
    "            \n",
    "            model = KNeighborsRegressor(n_neighbors=n_neighbors, weights=weights, p=p)\n",
    "            model.fit(x_train, y_train)\n",
    "            models.append(model)\n",
    "            \n",
    "            y_pred_knn = model.predict(x_test)\n",
    "            score = np.array([intersection_loss(*y) for y in zip(y_test, y_pred_knn)]).mean()\n",
    "            print(f'SCORE: {score:.3f}', end='... ')\n",
    "            \n",
    "            if score > best_score:\n",
    "                best_model = model\n",
    "                best_score = score\n",
    "                best_params['n_neighbors'] = n_neighbors\n",
    "                best_params['weights'] = weights\n",
    "                best_params['p'] = p\n",
    "            \n",
    "            print('END')"
   ]
  },
  {
   "cell_type": "markdown",
   "id": "eda14c69",
   "metadata": {},
   "source": [
    "# KNeighborsRegressor + Black&White"
   ]
  },
  {
   "cell_type": "code",
   "execution_count": 80,
   "id": "f79d8a4c",
   "metadata": {
    "scrolled": true
   },
   "outputs": [
    {
     "name": "stdout",
     "output_type": "stream",
     "text": [
      "START: n_neighbors=3, weights=uniform, p=1... SCORE: 0.218... END\n",
      "START: n_neighbors=3, weights=uniform, p=2... SCORE: 0.218... END\n",
      "START: n_neighbors=3, weights=distance, p=1... SCORE: 0.222... END\n",
      "START: n_neighbors=3, weights=distance, p=2... SCORE: 0.220... END\n",
      "START: n_neighbors=5, weights=uniform, p=1... SCORE: 0.214... END\n",
      "START: n_neighbors=5, weights=uniform, p=2... SCORE: 0.214... END\n",
      "START: n_neighbors=5, weights=distance, p=1... SCORE: 0.216... END\n",
      "START: n_neighbors=5, weights=distance, p=2... SCORE: 0.215... END\n",
      "START: n_neighbors=10, weights=uniform, p=1... SCORE: 0.194... END\n",
      "START: n_neighbors=10, weights=uniform, p=2... SCORE: 0.194... END\n",
      "START: n_neighbors=10, weights=distance, p=1... SCORE: 0.190... END\n",
      "START: n_neighbors=10, weights=distance, p=2... SCORE: 0.189... END\n"
     ]
    }
   ],
   "source": [
    "models = []\n",
    "best_score = 0\n",
    "best_params = {}\n",
    "best_model = None\n",
    "\n",
    "for n_neighbors in parameters['n_neighbors']:\n",
    "    for weights in parameters['weights']:\n",
    "        for p in parameters['p']:\n",
    "            print(f'START: n_neighbors={n_neighbors}, weights={weights}, p={p}', end='... ')\n",
    "            \n",
    "            model = KNeighborsRegressor(n_neighbors=n_neighbors, weights=weights, p=p)\n",
    "            model.fit(bw_x_train, bw_y_train)\n",
    "            models.append(model)\n",
    "            \n",
    "            y_pred_knn = model.predict(bw_x_test)\n",
    "            score = np.array([intersection_loss(*y) for y in zip(bw_y_test, y_pred_knn)]).mean()\n",
    "            print(f'SCORE: {score:.3f}', end='... ')\n",
    "            \n",
    "            if score > best_score:\n",
    "                best_model = model\n",
    "                best_score = score\n",
    "                best_params['n_neighbors'] = n_neighbors\n",
    "                best_params['weights'] = weights\n",
    "                best_params['p'] = p\n",
    "            \n",
    "            print('END')"
   ]
  },
  {
   "cell_type": "markdown",
   "id": "fe81b076",
   "metadata": {},
   "source": [
    "# DecisionTreeClassifier"
   ]
  },
  {
   "cell_type": "code",
   "execution_count": 81,
   "id": "225d40d6",
   "metadata": {},
   "outputs": [],
   "source": [
    "from sklearn.tree import DecisionTreeRegressor"
   ]
  },
  {
   "cell_type": "code",
   "execution_count": 88,
   "id": "d93d9236",
   "metadata": {},
   "outputs": [],
   "source": [
    "parameters = {\n",
    "    'max_depth': [20, 40, 100],\n",
    "}"
   ]
  },
  {
   "cell_type": "code",
   "execution_count": 89,
   "id": "49ba0ba2",
   "metadata": {},
   "outputs": [
    {
     "name": "stdout",
     "output_type": "stream",
     "text": [
      "START: max_depth=20... SCORE: 0.171... END\n",
      "START: max_depth=40... SCORE: 0.194... END\n",
      "START: max_depth=100... SCORE: 0.159... END\n"
     ]
    }
   ],
   "source": [
    "for max_depth in parameters['max_depth']:\n",
    "        print(f'START: max_depth={max_depth}', end='... ')\n",
    "\n",
    "        model = DecisionTreeRegressor(criterion=criterion, max_depth=max_depth)\n",
    "        model.fit(x_train, y_train)\n",
    "        models.append(model)\n",
    "\n",
    "        y_pred_knn = model.predict(x_test)\n",
    "        score = np.array([intersection_loss(*y) for y in zip(y_test, y_pred_knn)]).mean()\n",
    "        print(f'SCORE: {score:.3f}', end='... ')\n",
    "        print('END')"
   ]
  },
  {
   "cell_type": "markdown",
   "id": "56afacf7",
   "metadata": {},
   "source": [
    "# MLPRegressor "
   ]
  },
  {
   "cell_type": "code",
   "execution_count": 90,
   "id": "0dfc9018",
   "metadata": {},
   "outputs": [],
   "source": [
    "from sklearn.neural_network import MLPRegressor"
   ]
  },
  {
   "cell_type": "code",
   "execution_count": 103,
   "id": "56906d77",
   "metadata": {},
   "outputs": [],
   "source": [
    "mlpr = MLPRegressor(hidden_layer_sizes=(100,50),\n",
    "                    activation = 'relu',\n",
    "                    solver='adam',\n",
    "                    verbose=True)"
   ]
  },
  {
   "cell_type": "code",
   "execution_count": 104,
   "id": "9d42e353",
   "metadata": {},
   "outputs": [
    {
     "name": "stdout",
     "output_type": "stream",
     "text": [
      "Iteration 1, loss = 1395.97725365\n",
      "Iteration 2, loss = 193.63373786\n",
      "Iteration 3, loss = 39.57384535\n",
      "Iteration 4, loss = 31.74408005\n",
      "Iteration 5, loss = 29.29883846\n",
      "Iteration 6, loss = 11.61366080\n"
     ]
    },
    {
     "name": "stderr",
     "output_type": "stream",
     "text": [
      "C:\\Users\\Anton\\AppData\\Local\\Programs\\Python\\Python310\\lib\\site-packages\\sklearn\\neural_network\\_multilayer_perceptron.py:709: UserWarning: Training interrupted by user.\n",
      "  warnings.warn(\"Training interrupted by user.\")\n"
     ]
    },
    {
     "data": {
      "text/html": [
       "<style>#sk-container-id-5 {color: black;background-color: white;}#sk-container-id-5 pre{padding: 0;}#sk-container-id-5 div.sk-toggleable {background-color: white;}#sk-container-id-5 label.sk-toggleable__label {cursor: pointer;display: block;width: 100%;margin-bottom: 0;padding: 0.3em;box-sizing: border-box;text-align: center;}#sk-container-id-5 label.sk-toggleable__label-arrow:before {content: \"▸\";float: left;margin-right: 0.25em;color: #696969;}#sk-container-id-5 label.sk-toggleable__label-arrow:hover:before {color: black;}#sk-container-id-5 div.sk-estimator:hover label.sk-toggleable__label-arrow:before {color: black;}#sk-container-id-5 div.sk-toggleable__content {max-height: 0;max-width: 0;overflow: hidden;text-align: left;background-color: #f0f8ff;}#sk-container-id-5 div.sk-toggleable__content pre {margin: 0.2em;color: black;border-radius: 0.25em;background-color: #f0f8ff;}#sk-container-id-5 input.sk-toggleable__control:checked~div.sk-toggleable__content {max-height: 200px;max-width: 100%;overflow: auto;}#sk-container-id-5 input.sk-toggleable__control:checked~label.sk-toggleable__label-arrow:before {content: \"▾\";}#sk-container-id-5 div.sk-estimator input.sk-toggleable__control:checked~label.sk-toggleable__label {background-color: #d4ebff;}#sk-container-id-5 div.sk-label input.sk-toggleable__control:checked~label.sk-toggleable__label {background-color: #d4ebff;}#sk-container-id-5 input.sk-hidden--visually {border: 0;clip: rect(1px 1px 1px 1px);clip: rect(1px, 1px, 1px, 1px);height: 1px;margin: -1px;overflow: hidden;padding: 0;position: absolute;width: 1px;}#sk-container-id-5 div.sk-estimator {font-family: monospace;background-color: #f0f8ff;border: 1px dotted black;border-radius: 0.25em;box-sizing: border-box;margin-bottom: 0.5em;}#sk-container-id-5 div.sk-estimator:hover {background-color: #d4ebff;}#sk-container-id-5 div.sk-parallel-item::after {content: \"\";width: 100%;border-bottom: 1px solid gray;flex-grow: 1;}#sk-container-id-5 div.sk-label:hover label.sk-toggleable__label {background-color: #d4ebff;}#sk-container-id-5 div.sk-serial::before {content: \"\";position: absolute;border-left: 1px solid gray;box-sizing: border-box;top: 0;bottom: 0;left: 50%;z-index: 0;}#sk-container-id-5 div.sk-serial {display: flex;flex-direction: column;align-items: center;background-color: white;padding-right: 0.2em;padding-left: 0.2em;position: relative;}#sk-container-id-5 div.sk-item {position: relative;z-index: 1;}#sk-container-id-5 div.sk-parallel {display: flex;align-items: stretch;justify-content: center;background-color: white;position: relative;}#sk-container-id-5 div.sk-item::before, #sk-container-id-5 div.sk-parallel-item::before {content: \"\";position: absolute;border-left: 1px solid gray;box-sizing: border-box;top: 0;bottom: 0;left: 50%;z-index: -1;}#sk-container-id-5 div.sk-parallel-item {display: flex;flex-direction: column;z-index: 1;position: relative;background-color: white;}#sk-container-id-5 div.sk-parallel-item:first-child::after {align-self: flex-end;width: 50%;}#sk-container-id-5 div.sk-parallel-item:last-child::after {align-self: flex-start;width: 50%;}#sk-container-id-5 div.sk-parallel-item:only-child::after {width: 0;}#sk-container-id-5 div.sk-dashed-wrapped {border: 1px dashed gray;margin: 0 0.4em 0.5em 0.4em;box-sizing: border-box;padding-bottom: 0.4em;background-color: white;}#sk-container-id-5 div.sk-label label {font-family: monospace;font-weight: bold;display: inline-block;line-height: 1.2em;}#sk-container-id-5 div.sk-label-container {text-align: center;}#sk-container-id-5 div.sk-container {/* jupyter's `normalize.less` sets `[hidden] { display: none; }` but bootstrap.min.css set `[hidden] { display: none !important; }` so we also need the `!important` here to be able to override the default hidden behavior on the sphinx rendered scikit-learn.org. See: https://github.com/scikit-learn/scikit-learn/issues/21755 */display: inline-block !important;position: relative;}#sk-container-id-5 div.sk-text-repr-fallback {display: none;}</style><div id=\"sk-container-id-5\" class=\"sk-top-container\"><div class=\"sk-text-repr-fallback\"><pre>MLPRegressor(hidden_layer_sizes=(100, 50), verbose=True)</pre><b>In a Jupyter environment, please rerun this cell to show the HTML representation or trust the notebook. <br />On GitHub, the HTML representation is unable to render, please try loading this page with nbviewer.org.</b></div><div class=\"sk-container\" hidden><div class=\"sk-item\"><div class=\"sk-estimator sk-toggleable\"><input class=\"sk-toggleable__control sk-hidden--visually\" id=\"sk-estimator-id-5\" type=\"checkbox\" checked><label for=\"sk-estimator-id-5\" class=\"sk-toggleable__label sk-toggleable__label-arrow\">MLPRegressor</label><div class=\"sk-toggleable__content\"><pre>MLPRegressor(hidden_layer_sizes=(100, 50), verbose=True)</pre></div></div></div></div></div>"
      ],
      "text/plain": [
       "MLPRegressor(hidden_layer_sizes=(100, 50), verbose=True)"
      ]
     },
     "execution_count": 104,
     "metadata": {},
     "output_type": "execute_result"
    }
   ],
   "source": [
    "mlpr.fit(x_train, y_train)"
   ]
  },
  {
   "cell_type": "code",
   "execution_count": 97,
   "id": "06044363",
   "metadata": {},
   "outputs": [],
   "source": [
    "y_pred = mlpr.predict(x_test)"
   ]
  },
  {
   "cell_type": "code",
   "execution_count": 101,
   "id": "a01a0e28",
   "metadata": {},
   "outputs": [
    {
     "name": "stderr",
     "output_type": "stream",
     "text": [
      "TopologyException: Input geom 0 is invalid: Self-intersection at 0.47592797071999532 0.65946387464772172\n",
      "TopologyException: Input geom 0 is invalid: Self-intersection at 0.414084625074917 0.43122817037300354\n",
      "TopologyException: Input geom 0 is invalid: Self-intersection at 0.54872812326739628 0.43599364057091983\n",
      "TopologyException: Input geom 0 is invalid: Self-intersection at 0.67087299275530665 0.54186017319884272\n",
      "TopologyException: Input geom 0 is invalid: Self-intersection at 0.61703149627613896 0.78224553520823203\n",
      "TopologyException: Input geom 0 is invalid: Self-intersection at 0.32465266524276937 0.32229281558957507\n",
      "TopologyException: Input geom 0 is invalid: Self-intersection at 0.47472652623474115 0.46591341701448363\n",
      "TopologyException: Input geom 0 is invalid: Self-intersection at 0.53654247003525102 0.49835146753209075\n",
      "TopologyException: Input geom 0 is invalid: Self-intersection at 0.65679772858304364 0.61745423046435699\n",
      "TopologyException: Input geom 0 is invalid: Self-intersection at 0.498829291528326 0.59675578286624487\n",
      "TopologyException: Input geom 0 is invalid: Self-intersection at 0.52290113867006027 0.65438513041830437\n",
      "TopologyException: Input geom 0 is invalid: Self-intersection at 0.38588837096801371 0.48014412783131993\n",
      "TopologyException: Input geom 0 is invalid: Self-intersection at 0.4279528386588648 0.59995960962748163\n",
      "TopologyException: Input geom 0 is invalid: Self-intersection at 0.56294718373206298 0.33630180895667383\n",
      "TopologyException: Input geom 0 is invalid: Self-intersection at 0.4799958838733499 0.52009985027235073\n",
      "TopologyException: Input geom 0 is invalid: Self-intersection at 0.5678104153880994 0.63765188750917257\n",
      "TopologyException: Input geom 0 is invalid: Self-intersection at 0.38557213906177862 0.58121902235934386\n",
      "TopologyException: Input geom 0 is invalid: Self-intersection at 0.46025437262473157 0.53699157286907928\n",
      "TopologyException: Input geom 0 is invalid: Self-intersection at 0.56469301643867231 0.78423050600999844\n",
      "TopologyException: Input geom 0 is invalid: Self-intersection at 0.58372648356451029 0.46679804727075647\n",
      "TopologyException: Input geom 0 is invalid: Self-intersection at 0.45520947500411985 0.59908037843566397\n",
      "TopologyException: Input geom 0 is invalid: Self-intersection at 0.56358204966465086 0.59112757436778773\n",
      "TopologyException: Input geom 0 is invalid: Self-intersection at 0.1732011422467335 0.37800050077438574\n",
      "TopologyException: Input geom 0 is invalid: Self-intersection at 0.60524004103619811 0.62207295177161925\n",
      "TopologyException: Input geom 0 is invalid: Self-intersection at 0.50892516653557107 0.60626291182582981\n",
      "TopologyException: Input geom 0 is invalid: Self-intersection at 0.49753386130742827 0.42044247106690918\n",
      "TopologyException: Input geom 0 is invalid: Self-intersection at 0.2852153647950289 0.4227721727439363\n",
      "TopologyException: Input geom 0 is invalid: Self-intersection at 0.57574470370127595 0.59842682718220774\n",
      "TopologyException: Input geom 0 is invalid: Self-intersection at 0.38983038112574109 0.47334228386197369\n",
      "TopologyException: Input geom 0 is invalid: Self-intersection at 0.57220014585637435 0.53224389523114823\n",
      "TopologyException: Input geom 0 is invalid: Self-intersection at 0.34249315147762699 0.34241237809958736\n",
      "TopologyException: Input geom 0 is invalid: Self-intersection at 0.52346279229755754 0.56973513669658327\n",
      "TopologyException: Input geom 0 is invalid: Self-intersection at 0.46892442515397881 0.57718711342770657\n",
      "TopologyException: Input geom 0 is invalid: Self-intersection at 0.63212276080703944 0.47683306896274502\n",
      "TopologyException: Input geom 0 is invalid: Self-intersection at 0.35599224939023072 0.40094165691368239\n",
      "TopologyException: Input geom 0 is invalid: Self-intersection at 0.42634278639781964 0.38220122340911811\n",
      "TopologyException: Input geom 0 is invalid: Self-intersection at 0.50753668527352347 0.38008578013574967\n",
      "TopologyException: Input geom 0 is invalid: Self-intersection at 0.55463737348399 0.61564594272475137\n"
     ]
    },
    {
     "data": {
      "text/plain": [
       "0.19705300094208666"
      ]
     },
     "execution_count": 101,
     "metadata": {},
     "output_type": "execute_result"
    }
   ],
   "source": [
    "a = np.array([intersection_loss(*y) for y in zip(y_test, y_pred)])\n",
    "a[a != np.array(None)].mean()"
   ]
  },
  {
   "cell_type": "code",
   "execution_count": null,
   "id": "d70f6aaa",
   "metadata": {},
   "outputs": [],
   "source": []
  }
 ],
 "metadata": {
  "kernelspec": {
   "display_name": "Python 3 (ipykernel)",
   "language": "python",
   "name": "python3"
  },
  "language_info": {
   "codemirror_mode": {
    "name": "ipython",
    "version": 3
   },
   "file_extension": ".py",
   "mimetype": "text/x-python",
   "name": "python",
   "nbconvert_exporter": "python",
   "pygments_lexer": "ipython3",
   "version": "3.10.7"
  }
 },
 "nbformat": 4,
 "nbformat_minor": 5
}
