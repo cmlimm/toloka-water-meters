{
 "cells": [
  {
   "cell_type": "code",
   "execution_count": 1,
   "id": "d5631671",
   "metadata": {},
   "outputs": [],
   "source": [
    "import numpy as np\n",
    "import pandas as pd\n",
    "import tensorflow as tf\n",
    "from sklearn.model_selection import train_test_split\n",
    "from skimage.io import imread, imshow\n",
    "import matplotlib.pyplot as plt\n",
    "\n",
    "import random\n",
    "import json\n",
    "import ast\n",
    "import os\n",
    "import cv2\n",
    "import PIL\n",
    "\n",
    "from skimage import io\n",
    "from skimage.transform import rotate\n",
    "from skimage.color import rgb2gray\n",
    "from deskew import determine_skew\n",
    "import math"
   ]
  },
  {
   "cell_type": "code",
   "execution_count": 2,
   "id": "1a8d9a2d",
   "metadata": {},
   "outputs": [
    {
     "name": "stderr",
     "output_type": "stream",
     "text": [
      "C:\\Users\\Anton\\AppData\\Local\\Programs\\Python\\Python310\\lib\\site-packages\\tqdm\\auto.py:22: TqdmWarning: IProgress not found. Please update jupyter and ipywidgets. See https://ipywidgets.readthedocs.io/en/stable/user_install.html\n",
      "  from .autonotebook import tqdm as notebook_tqdm\n"
     ]
    }
   ],
   "source": [
    "import torch\n",
    "import torchvision\n",
    "\n",
    "import torch.nn as nn\n",
    "from torch import optim\n",
    "from torchvision import transforms\n",
    "\n",
    "from PIL import Image\n",
    "from tqdm import tqdm"
   ]
  },
  {
   "cell_type": "code",
   "execution_count": 3,
   "id": "7f77a5e4",
   "metadata": {},
   "outputs": [],
   "source": [
    "images_data = []\n",
    "labels_data = []\n",
    "dirname = r\"C:\\Users\\Anton\\Downloads\\TlkWaterMeters\\digits\"\n",
    "\n",
    "for image in os.listdir(dirname):\n",
    "    dir_img = os.path.join(dirname, image)\n",
    "    \n",
    "    img = cv2.imread(os.path.join(dir_img))\n",
    "    img = cv2.resize(img, (28, 28))\n",
    "    images_data.append(img)\n",
    "    labels_data.append(int(dir_img[-5]))\n",
    "\n",
    "images_data = np.array(images_data, dtype=np.uint8)\n",
    "labels_data = np.array(labels_data, dtype=np.uint8)"
   ]
  },
  {
   "cell_type": "code",
   "execution_count": 4,
   "id": "96b426b4",
   "metadata": {},
   "outputs": [],
   "source": [
    "class Dataset(torch.utils.data.Dataset):   \n",
    "    def __init__(self, images_data, labels_data):\n",
    "        \n",
    "        self.transform = transforms.Compose(\n",
    "            [\n",
    "                transforms.ToPILImage(),\n",
    "                transforms.Grayscale(),\n",
    "                transforms.RandomVerticalFlip(0.5), \n",
    "                transforms.ToTensor()\n",
    "            ]\n",
    "        )\n",
    "        \n",
    "        self.images_data = images_data\n",
    "        self.y = torch.tensor(labels_data)\n",
    "\n",
    "    def __len__(self):\n",
    "        return len(self.y)\n",
    "\n",
    "    def __getitem__(self, index):\n",
    "        img = self.transform(self.images_data[index])\n",
    "        target = self.y[index]\n",
    "        \n",
    "        return img, target"
   ]
  },
  {
   "cell_type": "code",
   "execution_count": 5,
   "id": "32b10c8f",
   "metadata": {},
   "outputs": [],
   "source": [
    "img_train, img_test, target_train, target_test = train_test_split(images_data, labels_data, test_size=0.2, \n",
    "                                                                  random_state=42, shuffle=True)"
   ]
  },
  {
   "cell_type": "code",
   "execution_count": 6,
   "id": "ae01f59c",
   "metadata": {},
   "outputs": [],
   "source": [
    "img_train, img_val, target_train, target_val = train_test_split(img_train, target_train, test_size=0.1, \n",
    "                                                                random_state=42, shuffle=True)"
   ]
  },
  {
   "cell_type": "code",
   "execution_count": 7,
   "id": "d149eda6",
   "metadata": {},
   "outputs": [],
   "source": [
    "train_dataset = Dataset(img_train, target_train)\n",
    "train_loader = torch.utils.data.DataLoader(train_dataset, batch_size=32, shuffle=True)\n",
    "\n",
    "val_dataset = Dataset(img_val, target_val)\n",
    "val_loader = torch.utils.data.DataLoader(val_dataset, batch_size=16, shuffle=True)\n",
    "\n",
    "test_dataset = Dataset(img_test, target_test)\n",
    "test_len = test_dataset.__len__()\n",
    "test_loader = torch.utils.data.DataLoader(test_dataset, batch_size=test_len, shuffle=False)"
   ]
  },
  {
   "cell_type": "code",
   "execution_count": 8,
   "id": "360bc442",
   "metadata": {},
   "outputs": [
    {
     "data": {
      "text/plain": [
       "<torch._C.Generator at 0x2ad45866690>"
      ]
     },
     "execution_count": 8,
     "metadata": {},
     "output_type": "execute_result"
    }
   ],
   "source": [
    "np.random.seed(42)\n",
    "torch.manual_seed(42)"
   ]
  },
  {
   "cell_type": "code",
   "execution_count": 9,
   "id": "30b389b5",
   "metadata": {},
   "outputs": [],
   "source": [
    "class CNN(nn.Module):\n",
    "    def __init__(self, output_size=100, dropout=0.5):\n",
    "        super(CNN, self).__init__()\n",
    "        self.conv = nn.Sequential(nn.Conv2d(1, 32, kernel_size=5, stride=2, padding=1),\n",
    "                                  nn.ReLU(inplace=True),\n",
    "                                  nn.MaxPool2d(kernel_size=2, stride=2),\n",
    "                                  nn.Conv2d(32, 96, kernel_size=4, stride=1, padding=1),\n",
    "                                  nn.ReLU(inplace=True),\n",
    "                                  nn.MaxPool2d(kernel_size=2, stride=2),\n",
    "                                  nn.Conv2d(96, 192, kernel_size=3, stride=1, padding=1),\n",
    "                                  nn.ReLU(inplace=True),\n",
    "                                  nn.Conv2d(192, 128, kernel_size=3, stride=1, padding=1),\n",
    "                                  nn.ReLU(inplace=True),\n",
    "                                  nn.Conv2d(128, 128, kernel_size=3, stride=1, padding=1),\n",
    "                                  nn.ReLU(inplace=True),\n",
    "                                  nn.MaxPool2d(kernel_size=2, stride=2),\n",
    "                                 )\n",
    "        self.avg_pool = nn.AdaptiveAvgPool2d(output_size=(6, 6))\n",
    "        self.fc = nn.Sequential(nn.Linear(128*6*6, 2048),\n",
    "                                nn.ReLU(inplace=True),\n",
    "                                nn.Dropout(p=dropout),\n",
    "                                nn.Linear(2048, 1024),\n",
    "                                nn.ReLU(inplace=True),\n",
    "                                nn.Dropout(p=dropout),\n",
    "                                nn.Linear(1024, output_size),\n",
    "                                nn.LogSoftmax(dim=1)\n",
    "                               )\n",
    "        return\n",
    "    \n",
    "    def forward(self, x):\n",
    "        x = self.conv(x)\n",
    "        x = self.avg_pool(x)\n",
    "        x = torch.flatten(x, 1)\n",
    "        x = self.fc(x)\n",
    "        return x"
   ]
  },
  {
   "cell_type": "code",
   "execution_count": 10,
   "id": "dd5c806f",
   "metadata": {},
   "outputs": [],
   "source": [
    "def validation(model, loader, criterion, device=\"cpu\"):\n",
    "    model.eval()\n",
    "    loss = 0\n",
    "    acc = 0\n",
    "    \n",
    "    with torch.no_grad():\n",
    "        for images, labels in loader:\n",
    "            images, labels = images.to(device), labels.to(device)\n",
    "            \n",
    "            output = model.forward(images)\n",
    "#             print(output)\n",
    "            loss += criterion(output,labels).item()\n",
    "            \n",
    "            probs = torch.exp(output)\n",
    "            equality = (labels.data == probs.max(dim=1)[1])\n",
    "            acc += equality.type(torch.FloatTensor).mean()\n",
    "    res_loss = loss/len(loader)\n",
    "    res_acc = (acc.item())/len(loader)\n",
    "    return res_loss, res_acc"
   ]
  },
  {
   "cell_type": "code",
   "execution_count": 11,
   "id": "df085b58",
   "metadata": {},
   "outputs": [],
   "source": [
    "def train_model(model, trainloader, validloader, criterion, optimizer,\n",
    "                scheduler, epochs=10, print_every=1, device=\"cpu\"):\n",
    "    model.to(device)\n",
    "    best_acc = 0\n",
    "    best_epoch = 0\n",
    "    \n",
    "    for e in range(epochs):\n",
    "        model.train()        \n",
    "        for images, labels in trainloader:\n",
    "            images, labels = images.to(device), labels.to(device)\n",
    "            \n",
    "            optimizer.zero_grad()\n",
    "            output = model.forward(images)\n",
    "            loss = criterion(output, labels)\n",
    "            loss.backward()\n",
    "            optimizer.step()\n",
    "            scheduler.step()\n",
    "        \n",
    "        model.eval()\n",
    "        train_loss, train_accuracy = validation(model, trainloader, criterion, device)\n",
    "        valid_loss, valid_accuracy = validation(model, validloader, criterion, device)\n",
    "        \n",
    "        if valid_accuracy > best_acc:\n",
    "            best_acc = valid_accuracy\n",
    "            best_epoch = e\n",
    "            torch.save(model.state_dict(), \"best-state.pt\")\n",
    "            \n",
    "        if e % print_every == 0:\n",
    "            to_print = \"Epoch: \"+str(e+1)+\" of \"+str(epochs)\n",
    "            to_print += \".. Train Loss: {:.4f}\".format(train_loss)\n",
    "            to_print += \".. Valid Loss: {:.4f}\".format(valid_loss)\n",
    "            to_print += \".. Valid Accuracy: {:.3f}\".format(valid_accuracy)\n",
    "            print(to_print)\n",
    "    \n",
    "    model.load_state_dict(torch.load(\"best-state.pt\"))\n",
    "    to_print = \"\\nTraining completed. Best state dict is loaded.\\n\"\n",
    "    to_print += \"Best Valid Acc is: {:.4f} after {} epochs\".format(best_acc,best_epoch+1)\n",
    "    print(to_print)\n",
    "    return"
   ]
  },
  {
   "cell_type": "code",
   "execution_count": 12,
   "id": "032751d8",
   "metadata": {},
   "outputs": [],
   "source": [
    "def prediction(model, loader, device=\"cpu\"):\n",
    "    model.to(device)\n",
    "    model.eval()\n",
    "    preds_all = torch.LongTensor()\n",
    "    \n",
    "    with torch.no_grad():\n",
    "        for images, label in loader:\n",
    "            images = images.to(device)\n",
    "            \n",
    "            output = model.forward(images)            \n",
    "            probs = torch.exp(output)\n",
    "            pred = probs.to('cpu').max(dim=1)[1]\n",
    "            preds_all = torch.cat((preds_all, pred), dim=0)\n",
    "    return preds_all"
   ]
  },
  {
   "cell_type": "code",
   "execution_count": 13,
   "id": "7b1ea89a",
   "metadata": {},
   "outputs": [],
   "source": [
    "model_recognizer = CNN(output_size=10, dropout=0.5)\n",
    "# print(model_recognizer)"
   ]
  },
  {
   "cell_type": "code",
   "execution_count": 140,
   "id": "5cf7e9c5",
   "metadata": {},
   "outputs": [],
   "source": [
    "max_learning_rate = 0.001\n",
    "n_epochs = 60\n",
    "train_batch_size = 32\n",
    "valid_batch_size = 16\n",
    "steps_per_epoch = math.ceil(len(train_dataset)/32)\n",
    "\n",
    "weights = 100/np.unique(labels_data, return_counts=True)[1]\n",
    "weights = torch.FloatTensor(weights)\n",
    "criterion = nn.CrossEntropyLoss(weight=weights)\n",
    "optimizer = optim.Adam(model_recognizer.parameters(), lr=max_learning_rate)\n",
    "scheduler = optim.lr_scheduler.OneCycleLR(optimizer,\n",
    "                                          max_lr = max_learning_rate,\n",
    "                                          epochs = n_epochs,\n",
    "                                          steps_per_epoch = steps_per_epoch,\n",
    "                                          pct_start = 0.2,\n",
    "                                          anneal_strategy = \"cos\")"
   ]
  },
  {
   "cell_type": "code",
   "execution_count": 141,
   "id": "9bb34d09",
   "metadata": {},
   "outputs": [
    {
     "name": "stdout",
     "output_type": "stream",
     "text": [
      "Epoch: 1 of 60.. Train Loss: 1.1378.. Valid Loss: 1.4761.. Valid Accuracy: 0.585\n",
      "Epoch: 2 of 60.. Train Loss: 1.1201.. Valid Loss: 1.4694.. Valid Accuracy: 0.602\n",
      "Epoch: 3 of 60.. Train Loss: 1.1189.. Valid Loss: 1.4767.. Valid Accuracy: 0.612\n",
      "Epoch: 4 of 60.. Train Loss: 1.1018.. Valid Loss: 1.5269.. Valid Accuracy: 0.600\n",
      "Epoch: 5 of 60.. Train Loss: 1.1339.. Valid Loss: 1.5480.. Valid Accuracy: 0.600\n",
      "Epoch: 6 of 60.. Train Loss: 1.2140.. Valid Loss: 1.5436.. Valid Accuracy: 0.584\n",
      "Epoch: 7 of 60.. Train Loss: 1.1974.. Valid Loss: 1.4723.. Valid Accuracy: 0.581\n",
      "Epoch: 8 of 60.. Train Loss: 1.1672.. Valid Loss: 1.4900.. Valid Accuracy: 0.603\n",
      "Epoch: 9 of 60.. Train Loss: 1.1605.. Valid Loss: 1.6148.. Valid Accuracy: 0.583\n",
      "Epoch: 10 of 60.. Train Loss: 1.2002.. Valid Loss: 1.6058.. Valid Accuracy: 0.582\n",
      "Epoch: 11 of 60.. Train Loss: 1.2292.. Valid Loss: 1.5921.. Valid Accuracy: 0.557\n",
      "Epoch: 12 of 60.. Train Loss: 1.2002.. Valid Loss: 1.4913.. Valid Accuracy: 0.607\n",
      "Epoch: 13 of 60.. Train Loss: 1.1768.. Valid Loss: 1.5465.. Valid Accuracy: 0.580\n",
      "Epoch: 14 of 60.. Train Loss: 1.1318.. Valid Loss: 1.4790.. Valid Accuracy: 0.587\n",
      "Epoch: 15 of 60.. Train Loss: 1.1564.. Valid Loss: 1.4641.. Valid Accuracy: 0.596\n",
      "Epoch: 16 of 60.. Train Loss: 1.1423.. Valid Loss: 1.4700.. Valid Accuracy: 0.603\n",
      "Epoch: 17 of 60.. Train Loss: 1.0436.. Valid Loss: 1.3925.. Valid Accuracy: 0.649\n",
      "Epoch: 18 of 60.. Train Loss: 1.0751.. Valid Loss: 1.5301.. Valid Accuracy: 0.618\n",
      "Epoch: 19 of 60.. Train Loss: 1.0242.. Valid Loss: 1.3667.. Valid Accuracy: 0.640\n",
      "Epoch: 20 of 60.. Train Loss: 0.9839.. Valid Loss: 1.4251.. Valid Accuracy: 0.648\n",
      "Epoch: 21 of 60.. Train Loss: 1.0004.. Valid Loss: 1.4371.. Valid Accuracy: 0.643\n",
      "Epoch: 22 of 60.. Train Loss: 1.1288.. Valid Loss: 1.5549.. Valid Accuracy: 0.615\n",
      "Epoch: 23 of 60.. Train Loss: 0.9417.. Valid Loss: 1.4198.. Valid Accuracy: 0.654\n",
      "Epoch: 24 of 60.. Train Loss: 0.9224.. Valid Loss: 1.4633.. Valid Accuracy: 0.632\n",
      "Epoch: 25 of 60.. Train Loss: 0.8611.. Valid Loss: 1.3607.. Valid Accuracy: 0.657\n",
      "Epoch: 26 of 60.. Train Loss: 0.8769.. Valid Loss: 1.5284.. Valid Accuracy: 0.660\n",
      "Epoch: 27 of 60.. Train Loss: 0.8232.. Valid Loss: 1.3400.. Valid Accuracy: 0.654\n",
      "Epoch: 28 of 60.. Train Loss: 0.8082.. Valid Loss: 1.4059.. Valid Accuracy: 0.646\n",
      "Epoch: 29 of 60.. Train Loss: 0.7185.. Valid Loss: 1.4336.. Valid Accuracy: 0.687\n",
      "Epoch: 30 of 60.. Train Loss: 0.8132.. Valid Loss: 1.5036.. Valid Accuracy: 0.667\n",
      "Epoch: 31 of 60.. Train Loss: 0.7594.. Valid Loss: 1.3585.. Valid Accuracy: 0.660\n",
      "Epoch: 32 of 60.. Train Loss: 0.6363.. Valid Loss: 1.5428.. Valid Accuracy: 0.681\n",
      "Epoch: 33 of 60.. Train Loss: 0.6435.. Valid Loss: 1.5678.. Valid Accuracy: 0.661\n",
      "Epoch: 34 of 60.. Train Loss: 0.6514.. Valid Loss: 1.5830.. Valid Accuracy: 0.681\n",
      "Epoch: 35 of 60.. Train Loss: 0.6612.. Valid Loss: 1.5543.. Valid Accuracy: 0.686\n",
      "Epoch: 36 of 60.. Train Loss: 0.5715.. Valid Loss: 1.6593.. Valid Accuracy: 0.682\n",
      "Epoch: 37 of 60.. Train Loss: 0.5149.. Valid Loss: 1.5855.. Valid Accuracy: 0.683\n",
      "Epoch: 38 of 60.. Train Loss: 0.5318.. Valid Loss: 1.6084.. Valid Accuracy: 0.674\n",
      "Epoch: 39 of 60.. Train Loss: 0.4823.. Valid Loss: 1.6675.. Valid Accuracy: 0.668\n",
      "Epoch: 40 of 60.. Train Loss: 0.4817.. Valid Loss: 1.7571.. Valid Accuracy: 0.686\n",
      "Epoch: 41 of 60.. Train Loss: 0.4754.. Valid Loss: 1.9258.. Valid Accuracy: 0.673\n",
      "Epoch: 42 of 60.. Train Loss: 0.3921.. Valid Loss: 1.9517.. Valid Accuracy: 0.697\n",
      "Epoch: 43 of 60.. Train Loss: 0.3712.. Valid Loss: 2.0501.. Valid Accuracy: 0.686\n",
      "Epoch: 44 of 60.. Train Loss: 0.3643.. Valid Loss: 1.9914.. Valid Accuracy: 0.689\n",
      "Epoch: 45 of 60.. Train Loss: 0.3422.. Valid Loss: 1.9711.. Valid Accuracy: 0.669\n",
      "Epoch: 46 of 60.. Train Loss: 0.3010.. Valid Loss: 2.1239.. Valid Accuracy: 0.702\n",
      "Epoch: 47 of 60.. Train Loss: 0.2957.. Valid Loss: 2.1427.. Valid Accuracy: 0.696\n",
      "Epoch: 48 of 60.. Train Loss: 0.2689.. Valid Loss: 2.2665.. Valid Accuracy: 0.680\n",
      "Epoch: 49 of 60.. Train Loss: 0.2697.. Valid Loss: 2.2421.. Valid Accuracy: 0.699\n",
      "Epoch: 50 of 60.. Train Loss: 0.2588.. Valid Loss: 2.2757.. Valid Accuracy: 0.701\n",
      "Epoch: 51 of 60.. Train Loss: 0.2337.. Valid Loss: 2.5023.. Valid Accuracy: 0.679\n",
      "Epoch: 52 of 60.. Train Loss: 0.2239.. Valid Loss: 2.4752.. Valid Accuracy: 0.688\n",
      "Epoch: 53 of 60.. Train Loss: 0.2098.. Valid Loss: 2.5723.. Valid Accuracy: 0.688\n",
      "Epoch: 54 of 60.. Train Loss: 0.2116.. Valid Loss: 2.6224.. Valid Accuracy: 0.688\n",
      "Epoch: 55 of 60.. Train Loss: 0.2050.. Valid Loss: 2.5412.. Valid Accuracy: 0.687\n",
      "Epoch: 56 of 60.. Train Loss: 0.2080.. Valid Loss: 2.5426.. Valid Accuracy: 0.689\n",
      "Epoch: 57 of 60.. Train Loss: 0.2028.. Valid Loss: 2.6173.. Valid Accuracy: 0.683\n",
      "Epoch: 58 of 60.. Train Loss: 0.1985.. Valid Loss: 2.6310.. Valid Accuracy: 0.692\n",
      "Epoch: 59 of 60.. Train Loss: 0.1890.. Valid Loss: 2.7008.. Valid Accuracy: 0.693\n",
      "Epoch: 60 of 60.. Train Loss: 0.1992.. Valid Loss: 2.6219.. Valid Accuracy: 0.700\n",
      "\n",
      "Training completed. Best state dict is loaded.\n",
      "Best Valid Acc is: 0.7022 after 46 epochs\n"
     ]
    }
   ],
   "source": [
    "train_model(model = model_recognizer, trainloader = train_loader,\n",
    "            validloader = val_loader, criterion = criterion,\n",
    "            optimizer = optimizer, scheduler = scheduler,\n",
    "            epochs = n_epochs, print_every=1, device = \"cpu\")"
   ]
  },
  {
   "cell_type": "code",
   "execution_count": 14,
   "id": "153b306d",
   "metadata": {},
   "outputs": [],
   "source": [
    "from sklearn.metrics import confusion_matrix, ConfusionMatrixDisplay"
   ]
  },
  {
   "cell_type": "code",
   "execution_count": 15,
   "id": "be45e690",
   "metadata": {},
   "outputs": [
    {
     "data": {
      "text/plain": [
       "CNN(\n",
       "  (conv): Sequential(\n",
       "    (0): Conv2d(1, 32, kernel_size=(5, 5), stride=(2, 2), padding=(1, 1))\n",
       "    (1): ReLU(inplace=True)\n",
       "    (2): MaxPool2d(kernel_size=2, stride=2, padding=0, dilation=1, ceil_mode=False)\n",
       "    (3): Conv2d(32, 96, kernel_size=(4, 4), stride=(1, 1), padding=(1, 1))\n",
       "    (4): ReLU(inplace=True)\n",
       "    (5): MaxPool2d(kernel_size=2, stride=2, padding=0, dilation=1, ceil_mode=False)\n",
       "    (6): Conv2d(96, 192, kernel_size=(3, 3), stride=(1, 1), padding=(1, 1))\n",
       "    (7): ReLU(inplace=True)\n",
       "    (8): Conv2d(192, 128, kernel_size=(3, 3), stride=(1, 1), padding=(1, 1))\n",
       "    (9): ReLU(inplace=True)\n",
       "    (10): Conv2d(128, 128, kernel_size=(3, 3), stride=(1, 1), padding=(1, 1))\n",
       "    (11): ReLU(inplace=True)\n",
       "    (12): MaxPool2d(kernel_size=2, stride=2, padding=0, dilation=1, ceil_mode=False)\n",
       "  )\n",
       "  (avg_pool): AdaptiveAvgPool2d(output_size=(6, 6))\n",
       "  (fc): Sequential(\n",
       "    (0): Linear(in_features=4608, out_features=2048, bias=True)\n",
       "    (1): ReLU(inplace=True)\n",
       "    (2): Dropout(p=0.5, inplace=False)\n",
       "    (3): Linear(in_features=2048, out_features=1024, bias=True)\n",
       "    (4): ReLU(inplace=True)\n",
       "    (5): Dropout(p=0.5, inplace=False)\n",
       "    (6): Linear(in_features=1024, out_features=10, bias=True)\n",
       "    (7): LogSoftmax(dim=1)\n",
       "  )\n",
       ")"
      ]
     },
     "execution_count": 15,
     "metadata": {},
     "output_type": "execute_result"
    }
   ],
   "source": [
    "model_recognizer.load_state_dict(torch.load('best-state.pt'))\n",
    "model_recognizer.eval()"
   ]
  },
  {
   "cell_type": "code",
   "execution_count": 16,
   "id": "49a52e48",
   "metadata": {},
   "outputs": [],
   "source": [
    "y_pred = prediction(model_recognizer, test_loader)\n",
    "y_true = target_test"
   ]
  },
  {
   "cell_type": "code",
   "execution_count": 17,
   "id": "64d6a7b1",
   "metadata": {},
   "outputs": [],
   "source": [
    "cm = confusion_matrix(y_true, y_pred, labels=list(range(10)))\n",
    "disp = ConfusionMatrixDisplay(confusion_matrix=cm, display_labels=list(range(10)))"
   ]
  },
  {
   "cell_type": "code",
   "execution_count": 22,
   "id": "7a55049f",
   "metadata": {},
   "outputs": [],
   "source": [
    "import matplotlib.pyplot as plt"
   ]
  },
  {
   "cell_type": "code",
   "execution_count": 25,
   "id": "4b48d306",
   "metadata": {},
   "outputs": [],
   "source": [
    "font = {'size'   : 14}\n",
    "plt.rc('font', **font)"
   ]
  },
  {
   "cell_type": "code",
   "execution_count": 27,
   "id": "e72abc14",
   "metadata": {},
   "outputs": [
    {
     "data": {
      "text/plain": [
       "<sklearn.metrics._plot.confusion_matrix.ConfusionMatrixDisplay at 0x2ad45823ee0>"
      ]
     },
     "execution_count": 27,
     "metadata": {},
     "output_type": "execute_result"
    },
    {
     "data": {
      "image/png": "[encoded data removed]",
      "text/plain": [
       "<Figure size 720x720 with 2 Axes>"
      ]
     },
     "metadata": {
      "needs_background": "light"
     },
     "output_type": "display_data"
    }
   ],
   "source": [
    "fig, ax = plt.subplots(figsize=(10,10))\n",
    "disp.plot(ax=ax)"
   ]
  },
  {
   "cell_type": "code",
   "execution_count": 146,
   "id": "b1db96fb",
   "metadata": {},
   "outputs": [
    {
     "data": {
      "image/png": "[encoded data removed]",
      "text/plain": [
       "<Figure size 432x288 with 6 Axes>"
      ]
     },
     "metadata": {
      "needs_background": "light"
     },
     "output_type": "display_data"
    }
   ],
   "source": [
    "indices = [0, 1, 2, 3, 4, 5]\n",
    "fig, ax = plt.subplots(1, len(indices))\n",
    "for idx, i in enumerate(indices):\n",
    "    image = img_test[i]\n",
    "    pred = y_pred[i]\n",
    "    title = \"Label: {}\".format(int(pred))\n",
    "    ax[idx].axis('off')\n",
    "    ax[idx].imshow(image)\n",
    "    ax[idx].set_title(title)"
   ]
  },
  {
   "cell_type": "code",
   "execution_count": 19,
   "id": "1201483a",
   "metadata": {},
   "outputs": [],
   "source": [
    "from sklearn.metrics import accuracy_score"
   ]
  },
  {
   "cell_type": "code",
   "execution_count": 20,
   "id": "cbfde03d",
   "metadata": {},
   "outputs": [
    {
     "data": {
      "text/plain": [
       "0.6808726534753932"
      ]
     },
     "execution_count": 20,
     "metadata": {},
     "output_type": "execute_result"
    }
   ],
   "source": [
    "accuracy_score(y_true, y_pred)"
   ]
  },
  {
   "cell_type": "code",
   "execution_count": null,
   "id": "3ae8571e",
   "metadata": {},
   "outputs": [],
   "source": []
  }
 ],
 "metadata": {
  "kernelspec": {
   "display_name": "Python 3 (ipykernel)",
   "language": "python",
   "name": "python3"
  },
  "language_info": {
   "codemirror_mode": {
    "name": "ipython",
    "version": 3
   },
   "file_extension": ".py",
   "mimetype": "text/x-python",
   "name": "python",
   "nbconvert_exporter": "python",
   "pygments_lexer": "ipython3",
   "version": "3.10.7"
  }
 },
 "nbformat": 4,
 "nbformat_minor": 5
}
